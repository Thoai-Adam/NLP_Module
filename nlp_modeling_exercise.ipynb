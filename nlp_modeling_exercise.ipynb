{
 "cells": [
  {
   "cell_type": "markdown",
   "id": "f6d6e45f",
   "metadata": {},
   "source": [
    "Do your work for this exercise in a file named model.\n",
    "\n",
    "Take the work we did in the lessons further:\n",
    "\n",
    "What other types of models (i.e. different classifcation algorithms) could you use?\n",
    "\n",
    " * Neural Networks, Naive Bayes, CRF conditional random field\n",
    " \n",
    "How do the models compare when trained on term frequency data alone, instead of TF-IDF values?"
   ]
  },
  {
   "cell_type": "markdown",
   "id": "c59ef455",
   "metadata": {},
   "source": [
    "TF is term frequency to let you know how often a word appears in a document\n",
    "\n",
    "IDF is inverse document frequency to measure how many documents will a word appear in \n",
    "\n",
    "TF-IDf is combination of two measure above"
   ]
  },
  {
   "cell_type": "code",
   "execution_count": 21,
   "id": "d7c7ca6b",
   "metadata": {},
   "outputs": [],
   "source": [
    "import pandas as pd\n",
    "import numpy as np\n",
    "\n",
    "from sklearn.feature_extraction.text import TfidfVectorizer\n",
    "from sklearn.model_selection import train_test_split\n",
    "from sklearn.linear_model import LogisticRegression\n",
    "from sklearn.metrics import classification_report\n",
    "import matplotlib.pyplot as plt\n",
    "\n",
    "from env import get_connection\n",
    "from prepare import clean, lemmatize"
   ]
  },
  {
   "cell_type": "code",
   "execution_count": 2,
   "id": "e28e2838",
   "metadata": {},
   "outputs": [
    {
     "data": {
      "text/html": [
       "<div>\n",
       "<style scoped>\n",
       "    .dataframe tbody tr th:only-of-type {\n",
       "        vertical-align: middle;\n",
       "    }\n",
       "\n",
       "    .dataframe tbody tr th {\n",
       "        vertical-align: top;\n",
       "    }\n",
       "\n",
       "    .dataframe thead th {\n",
       "        text-align: right;\n",
       "    }\n",
       "</style>\n",
       "<table border=\"1\" class=\"dataframe\">\n",
       "  <thead>\n",
       "    <tr style=\"text-align: right;\">\n",
       "      <th></th>\n",
       "      <th>label</th>\n",
       "      <th>text</th>\n",
       "    </tr>\n",
       "    <tr>\n",
       "      <th>id</th>\n",
       "      <th></th>\n",
       "      <th></th>\n",
       "    </tr>\n",
       "  </thead>\n",
       "  <tbody>\n",
       "    <tr>\n",
       "      <th>0</th>\n",
       "      <td>ham</td>\n",
       "      <td>Go until jurong point, crazy.. Available only ...</td>\n",
       "    </tr>\n",
       "    <tr>\n",
       "      <th>1</th>\n",
       "      <td>ham</td>\n",
       "      <td>Ok lar... Joking wif u oni...</td>\n",
       "    </tr>\n",
       "    <tr>\n",
       "      <th>2</th>\n",
       "      <td>spam</td>\n",
       "      <td>Free entry in 2 a wkly comp to win FA Cup fina...</td>\n",
       "    </tr>\n",
       "    <tr>\n",
       "      <th>3</th>\n",
       "      <td>ham</td>\n",
       "      <td>U dun say so early hor... U c already then say...</td>\n",
       "    </tr>\n",
       "    <tr>\n",
       "      <th>4</th>\n",
       "      <td>ham</td>\n",
       "      <td>Nah I don't think he goes to usf, he lives aro...</td>\n",
       "    </tr>\n",
       "  </tbody>\n",
       "</table>\n",
       "</div>"
      ],
      "text/plain": [
       "   label                                               text\n",
       "id                                                         \n",
       "0    ham  Go until jurong point, crazy.. Available only ...\n",
       "1    ham                      Ok lar... Joking wif u oni...\n",
       "2   spam  Free entry in 2 a wkly comp to win FA Cup fina...\n",
       "3    ham  U dun say so early hor... U c already then say...\n",
       "4    ham  Nah I don't think he goes to usf, he lives aro..."
      ]
     },
     "execution_count": 2,
     "metadata": {},
     "output_type": "execute_result"
    }
   ],
   "source": [
    "url = get_connection('spam_db')\n",
    "\n",
    "query = 'SELECT * FROM spam'\n",
    "\n",
    "df = pd.read_sql(query, url, index_col='id')\n",
    "\n",
    "df.head()"
   ]
  },
  {
   "cell_type": "code",
   "execution_count": 7,
   "id": "99382189",
   "metadata": {},
   "outputs": [
    {
     "data": {
      "text/html": [
       "<div>\n",
       "<style scoped>\n",
       "    .dataframe tbody tr th:only-of-type {\n",
       "        vertical-align: middle;\n",
       "    }\n",
       "\n",
       "    .dataframe tbody tr th {\n",
       "        vertical-align: top;\n",
       "    }\n",
       "\n",
       "    .dataframe thead th {\n",
       "        text-align: right;\n",
       "    }\n",
       "</style>\n",
       "<table border=\"1\" class=\"dataframe\">\n",
       "  <thead>\n",
       "    <tr style=\"text-align: right;\">\n",
       "      <th></th>\n",
       "      <th>label</th>\n",
       "      <th>text</th>\n",
       "      <th>clean_text</th>\n",
       "    </tr>\n",
       "    <tr>\n",
       "      <th>id</th>\n",
       "      <th></th>\n",
       "      <th></th>\n",
       "      <th></th>\n",
       "    </tr>\n",
       "  </thead>\n",
       "  <tbody>\n",
       "    <tr>\n",
       "      <th>0</th>\n",
       "      <td>ham</td>\n",
       "      <td>Go until jurong point, crazy.. Available only ...</td>\n",
       "      <td>go jurong point crazy available bugis n great ...</td>\n",
       "    </tr>\n",
       "    <tr>\n",
       "      <th>1</th>\n",
       "      <td>ham</td>\n",
       "      <td>Ok lar... Joking wif u oni...</td>\n",
       "      <td>ok lar joking wif oni</td>\n",
       "    </tr>\n",
       "    <tr>\n",
       "      <th>2</th>\n",
       "      <td>spam</td>\n",
       "      <td>Free entry in 2 a wkly comp to win FA Cup fina...</td>\n",
       "      <td>free entry 2 wkly comp win fa cup final tkts 2...</td>\n",
       "    </tr>\n",
       "    <tr>\n",
       "      <th>3</th>\n",
       "      <td>ham</td>\n",
       "      <td>U dun say so early hor... U c already then say...</td>\n",
       "      <td>dun say early hor c already say</td>\n",
       "    </tr>\n",
       "    <tr>\n",
       "      <th>4</th>\n",
       "      <td>ham</td>\n",
       "      <td>Nah I don't think he goes to usf, he lives aro...</td>\n",
       "      <td>nah ' think goes usf lives around though</td>\n",
       "    </tr>\n",
       "  </tbody>\n",
       "</table>\n",
       "</div>"
      ],
      "text/plain": [
       "   label                                               text  \\\n",
       "id                                                            \n",
       "0    ham  Go until jurong point, crazy.. Available only ...   \n",
       "1    ham                      Ok lar... Joking wif u oni...   \n",
       "2   spam  Free entry in 2 a wkly comp to win FA Cup fina...   \n",
       "3    ham  U dun say so early hor... U c already then say...   \n",
       "4    ham  Nah I don't think he goes to usf, he lives aro...   \n",
       "\n",
       "                                           clean_text  \n",
       "id                                                     \n",
       "0   go jurong point crazy available bugis n great ...  \n",
       "1                               ok lar joking wif oni  \n",
       "2   free entry 2 wkly comp win fa cup final tkts 2...  \n",
       "3                     dun say early hor c already say  \n",
       "4            nah ' think goes usf lives around though  "
      ]
     },
     "execution_count": 7,
     "metadata": {},
     "output_type": "execute_result"
    }
   ],
   "source": [
    "df['clean_text'] = df.text.apply(clean, args=['us']) # .apply is the function to each entry of df\n",
    "df.head() #lemmatizing it "
   ]
  },
  {
   "cell_type": "code",
   "execution_count": 5,
   "id": "11c8bf8d",
   "metadata": {},
   "outputs": [],
   "source": [
    "X = df.clean_text\n",
    "y = df.label\n",
    "\n",
    "X_train, X_test, y_train, y_test = train_test_split(X, y, train_size=0.7,\n",
    "                                                    random_state=31)"
   ]
  },
  {
   "cell_type": "code",
   "execution_count": 6,
   "id": "38381aae",
   "metadata": {},
   "outputs": [
    {
     "name": "stdout",
     "output_type": "stream",
     "text": [
      "Behold, the might baseline accuracy: 86.51\n"
     ]
    }
   ],
   "source": [
    "baseline_acc = y_train.value_counts().max()/y_train.shape[0]*100\n",
    "print(f'Behold, the might baseline accuracy: {round(baseline_acc, 2)}')"
   ]
  },
  {
   "cell_type": "markdown",
   "id": "c34fe802",
   "metadata": {},
   "source": [
    "Inverse Document frequency provides info about individual words using multiple documents "
   ]
  },
  {
   "cell_type": "code",
   "execution_count": 17,
   "id": "7497f26f",
   "metadata": {},
   "outputs": [],
   "source": [
    "# we can calculate the inverse document frequency metric for each words\n",
    "document = df.clean_text.str\n",
    "words = document.split()"
   ]
  },
  {
   "cell_type": "code",
   "execution_count": 18,
   "id": "6aaac162",
   "metadata": {},
   "outputs": [
    {
     "data": {
      "text/html": [
       "<div>\n",
       "<style scoped>\n",
       "    .dataframe tbody tr th:only-of-type {\n",
       "        vertical-align: middle;\n",
       "    }\n",
       "\n",
       "    .dataframe tbody tr th {\n",
       "        vertical-align: top;\n",
       "    }\n",
       "\n",
       "    .dataframe thead th {\n",
       "        text-align: right;\n",
       "    }\n",
       "</style>\n",
       "<table border=\"1\" class=\"dataframe\">\n",
       "  <thead>\n",
       "    <tr style=\"text-align: right;\">\n",
       "      <th></th>\n",
       "      <th>raw_count</th>\n",
       "      <th>frequency</th>\n",
       "      <th>augmented_frequency</th>\n",
       "    </tr>\n",
       "  </thead>\n",
       "  <tbody>\n",
       "    <tr>\n",
       "      <th>[sorry, ', call, later]</th>\n",
       "      <td>30</td>\n",
       "      <td>0.005384</td>\n",
       "      <td>1.000000</td>\n",
       "    </tr>\n",
       "    <tr>\n",
       "      <th>[ok]</th>\n",
       "      <td>20</td>\n",
       "      <td>0.003589</td>\n",
       "      <td>0.666667</td>\n",
       "    </tr>\n",
       "    <tr>\n",
       "      <th>[cant, pick, phone, right, pls, send, message]</th>\n",
       "      <td>12</td>\n",
       "      <td>0.002154</td>\n",
       "      <td>0.400000</td>\n",
       "    </tr>\n",
       "    <tr>\n",
       "      <th>[okie]</th>\n",
       "      <td>7</td>\n",
       "      <td>0.001256</td>\n",
       "      <td>0.233333</td>\n",
       "    </tr>\n",
       "    <tr>\n",
       "      <th>[]</th>\n",
       "      <td>7</td>\n",
       "      <td>0.001256</td>\n",
       "      <td>0.233333</td>\n",
       "    </tr>\n",
       "    <tr>\n",
       "      <th>...</th>\n",
       "      <td>...</td>\n",
       "      <td>...</td>\n",
       "      <td>...</td>\n",
       "    </tr>\n",
       "    <tr>\n",
       "      <th>[ok, knackered, came, home, went, sleep, good, full, time, work, lark]</th>\n",
       "      <td>1</td>\n",
       "      <td>0.000179</td>\n",
       "      <td>0.033333</td>\n",
       "    </tr>\n",
       "    <tr>\n",
       "      <th>[gotta, collect, da, car, 6, lei]</th>\n",
       "      <td>1</td>\n",
       "      <td>0.000179</td>\n",
       "      <td>0.033333</td>\n",
       "    </tr>\n",
       "    <tr>\n",
       "      <th>[way, home, long, dry, spell, season, would]</th>\n",
       "      <td>1</td>\n",
       "      <td>0.000179</td>\n",
       "      <td>0.033333</td>\n",
       "    </tr>\n",
       "    <tr>\n",
       "      <th>[urgent, please, call, 09061743811, landline, abta, complimentary, 4, tenerife, holiday, a5000, cash, await, collection, sae, tcs, box, 326, cw25wx, 150ppm]</th>\n",
       "      <td>1</td>\n",
       "      <td>0.000179</td>\n",
       "      <td>0.033333</td>\n",
       "    </tr>\n",
       "    <tr>\n",
       "      <th>[rofl, true, name]</th>\n",
       "      <td>1</td>\n",
       "      <td>0.000179</td>\n",
       "      <td>0.033333</td>\n",
       "    </tr>\n",
       "  </tbody>\n",
       "</table>\n",
       "<p>5112 rows × 3 columns</p>\n",
       "</div>"
      ],
      "text/plain": [
       "                                                    raw_count  frequency  \\\n",
       "[sorry, ', call, later]                                    30   0.005384   \n",
       "[ok]                                                       20   0.003589   \n",
       "[cant, pick, phone, right, pls, send, message]             12   0.002154   \n",
       "[okie]                                                      7   0.001256   \n",
       "[]                                                          7   0.001256   \n",
       "...                                                       ...        ...   \n",
       "[ok, knackered, came, home, went, sleep, good, ...          1   0.000179   \n",
       "[gotta, collect, da, car, 6, lei]                           1   0.000179   \n",
       "[way, home, long, dry, spell, season, would]                1   0.000179   \n",
       "[urgent, please, call, 09061743811, landline, a...          1   0.000179   \n",
       "[rofl, true, name]                                          1   0.000179   \n",
       "\n",
       "                                                    augmented_frequency  \n",
       "[sorry, ', call, later]                                        1.000000  \n",
       "[ok]                                                           0.666667  \n",
       "[cant, pick, phone, right, pls, send, message]                 0.400000  \n",
       "[okie]                                                         0.233333  \n",
       "[]                                                             0.233333  \n",
       "...                                                                 ...  \n",
       "[ok, knackered, came, home, went, sleep, good, ...             0.033333  \n",
       "[gotta, collect, da, car, 6, lei]                              0.033333  \n",
       "[way, home, long, dry, spell, season, would]                   0.033333  \n",
       "[urgent, please, call, 09061743811, landline, a...             0.033333  \n",
       "[rofl, true, name]                                             0.033333  \n",
       "\n",
       "[5112 rows x 3 columns]"
      ]
     },
     "execution_count": 18,
     "metadata": {},
     "output_type": "execute_result"
    }
   ],
   "source": [
    "# From the Series we can extract the value_counts, which is our raw count\n",
    "# for term frequency. Once we have the raw counts, we can calculate the\n",
    "# other measures.\n",
    "(pd.DataFrame({'raw_count': words.value_counts()})\n",
    " .assign(frequency=lambda document: document.raw_count / document.raw_count.sum())\n",
    " .assign(augmented_frequency=lambda document: document.frequency / document.frequency.max()))"
   ]
  },
  {
   "cell_type": "code",
   "execution_count": 25,
   "id": "3adff914",
   "metadata": {},
   "outputs": [
    {
     "data": {
      "text/plain": [
       "Text(0.5, 1.0, 'IDF for a given word')"
      ]
     },
     "execution_count": 25,
     "metadata": {},
     "output_type": "execute_result"
    },
    {
     "data": {
      "image/png": "[encoded data removed]",
      "text/plain": [
       "<Figure size 1200x800 with 1 Axes>"
      ]
     },
     "metadata": {},
     "output_type": "display_data"
    }
   ],
   "source": [
    "n_documents= 20\n",
    "x = np.arange(1, n_documents+1)\n",
    "y = np.log(n_documents/x)\n",
    "\n",
    "plt.figure(figsize =(12, 8))\n",
    "plt.plot(x,y,marker='.')\n",
    "\n",
    "plt.xticks(x)\n",
    "plt.xlabel(' document counts')\n",
    "plt.ylabel('IDF')\n",
    "plt.title('IDF for a given word')"
   ]
  },
  {
   "cell_type": "code",
   "execution_count": 54,
   "id": "9a503b53",
   "metadata": {},
   "outputs": [],
   "source": [
    "from pprint import pprint\n"
   ]
  },
  {
   "cell_type": "code",
   "execution_count": 56,
   "id": "85367ca7",
   "metadata": {},
   "outputs": [
    {
     "name": "stderr",
     "output_type": "stream",
     "text": [
      "/var/folders/mn/mp1xhgm522gc5vhffb_k61d00000gn/T/ipykernel_56607/1612725496.py:4: FutureWarning: Columnar iteration over characters will be deprecated in future releases.\n",
      "  documents = {topic: lemmatize(basic_clean(documents[topic])) for topic in documents}\n"
     ]
    },
    {
     "ename": "NameError",
     "evalue": "name 'basic_clean' is not defined",
     "output_type": "error",
     "traceback": [
      "\u001b[0;31m---------------------------------------------------------------------------\u001b[0m",
      "\u001b[0;31mNameError\u001b[0m                                 Traceback (most recent call last)",
      "Cell \u001b[0;32mIn[56], line 4\u001b[0m\n\u001b[1;32m      1\u001b[0m \u001b[38;5;66;03m# calculating IDF for multiple words\u001b[39;00m\n\u001b[0;32m----> 4\u001b[0m documents \u001b[38;5;241m=\u001b[39m {topic: lemmatize(basic_clean(documents[topic])) \u001b[38;5;28;01mfor\u001b[39;00m topic \u001b[38;5;129;01min\u001b[39;00m documents}\n\u001b[1;32m      5\u001b[0m pprint(documents)\n",
      "Cell \u001b[0;32mIn[56], line 4\u001b[0m, in \u001b[0;36m<dictcomp>\u001b[0;34m(.0)\u001b[0m\n\u001b[1;32m      1\u001b[0m \u001b[38;5;66;03m# calculating IDF for multiple words\u001b[39;00m\n\u001b[0;32m----> 4\u001b[0m documents \u001b[38;5;241m=\u001b[39m {topic: lemmatize(\u001b[43mbasic_clean\u001b[49m(documents[topic])) \u001b[38;5;28;01mfor\u001b[39;00m topic \u001b[38;5;129;01min\u001b[39;00m documents}\n\u001b[1;32m      5\u001b[0m pprint(documents)\n",
      "\u001b[0;31mNameError\u001b[0m: name 'basic_clean' is not defined"
     ]
    }
   ],
   "source": [
    "# calculating IDF for multiple words\n",
    "\n",
    "\n",
    "documents = {topic: lemmatize(basic_clean(documents[topic])) for topic in documents}\n",
    "pprint(documents)"
   ]
  },
  {
   "cell_type": "code",
   "execution_count": null,
   "id": "97d3e099",
   "metadata": {},
   "outputs": [],
   "source": []
  }
 ],
 "metadata": {
  "kernelspec": {
   "display_name": "Python 3 (ipykernel)",
   "language": "python",
   "name": "python3"
  },
  "language_info": {
   "codemirror_mode": {
    "name": "ipython",
    "version": 3
   },
   "file_extension": ".py",
   "mimetype": "text/x-python",
   "name": "python",
   "nbconvert_exporter": "python",
   "pygments_lexer": "ipython3",
   "version": "3.10.9"
  }
 },
 "nbformat": 4,
 "nbformat_minor": 5
}
