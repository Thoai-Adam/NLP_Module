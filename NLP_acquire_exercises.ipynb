{
 "cells": [
  {
   "cell_type": "markdown",
   "id": "5426ea82",
   "metadata": {},
   "source": [
    "# Data Acquisition\n",
    "\n",
    "## Imports"
   ]
  },
  {
   "cell_type": "code",
   "execution_count": 15,
   "id": "7337593f",
   "metadata": {},
   "outputs": [],
   "source": [
    "from requests import get\n",
    "from bs4 import BeautifulSoup\n",
    "import os\n",
    "import pandas as pd"
   ]
  },
  {
   "cell_type": "markdown",
   "id": "1a007c12",
   "metadata": {},
   "source": [
    "# Codeup Blog Artciles\n",
    "\n",
    "record the urls for at least 5 distinct blog posts. scrape at least post title and content \n",
    "\n",
    "encapsulate yourwork in funciton named get_blog_articles that will return a list of dictionaries"
   ]
  },
  {
   "cell_type": "code",
   "execution_count": 4,
   "id": "574d6576",
   "metadata": {},
   "outputs": [],
   "source": [
    "url = 'https://codeup.edu/blog/'\n",
    "headers  = {'User-Agent': 'Codeup Data Science'}\n",
    "response = get(url, headers=headers)"
   ]
  },
  {
   "cell_type": "code",
   "execution_count": 5,
   "id": "935e7344",
   "metadata": {},
   "outputs": [],
   "source": [
    "soup= BeautifulSoup(response.content, 'html.parser')"
   ]
  },
  {
   "cell_type": "markdown",
   "id": "ade59a56",
   "metadata": {},
   "source": [
    "class= 'more-link' is one way to get access to each article link"
   ]
  },
  {
   "cell_type": "code",
   "execution_count": 6,
   "id": "47ef942c",
   "metadata": {},
   "outputs": [
    {
     "data": {
      "text/plain": [
       "[<a class=\"more-link\" href=\"https://codeup.edu/featured/apida-heritage-month/\">read more</a>,\n",
       " <a class=\"more-link\" href=\"https://codeup.edu/featured/women-in-tech-panelist-spotlight/\">read more</a>,\n",
       " <a class=\"more-link\" href=\"https://codeup.edu/featured/women-in-tech-rachel-robbins-mayhill/\">read more</a>,\n",
       " <a class=\"more-link\" href=\"https://codeup.edu/codeup-news/women-in-tech-panelist-spotlight-sarah-mellor/\">read more</a>,\n",
       " <a class=\"more-link\" href=\"https://codeup.edu/events/women-in-tech-madeleine/\">read more</a>,\n",
       " <a class=\"more-link\" href=\"https://codeup.edu/codeup-news/panelist-spotlight-4/\">read more</a>]"
      ]
     },
     "execution_count": 6,
     "metadata": {},
     "output_type": "execute_result"
    }
   ],
   "source": [
    "soup.select('.more-link') # soup.find_all('a', class_='more-link')"
   ]
  },
  {
   "cell_type": "code",
   "execution_count": 7,
   "id": "62a973b3",
   "metadata": {},
   "outputs": [
    {
     "data": {
      "text/plain": [
       "<a class=\"more-link\" href=\"https://codeup.edu/featured/apida-heritage-month/\">read more</a>"
      ]
     },
     "execution_count": 7,
     "metadata": {},
     "output_type": "execute_result"
    }
   ],
   "source": [
    "soup.select('.more-link')[0]"
   ]
  },
  {
   "cell_type": "code",
   "execution_count": 9,
   "id": "6a99d2eb",
   "metadata": {},
   "outputs": [
    {
     "data": {
      "text/plain": [
       "['https://codeup.edu/featured/apida-heritage-month/',\n",
       " 'https://codeup.edu/featured/women-in-tech-panelist-spotlight/',\n",
       " 'https://codeup.edu/featured/women-in-tech-rachel-robbins-mayhill/',\n",
       " 'https://codeup.edu/codeup-news/women-in-tech-panelist-spotlight-sarah-mellor/',\n",
       " 'https://codeup.edu/events/women-in-tech-madeleine/',\n",
       " 'https://codeup.edu/codeup-news/panelist-spotlight-4/']"
      ]
     },
     "execution_count": 9,
     "metadata": {},
     "output_type": "execute_result"
    }
   ],
   "source": [
    "# Using list comprehension to get all the links out\n",
    "links = [link['href']for link in soup.select('.more-link')]\n",
    "links"
   ]
  },
  {
   "cell_type": "code",
   "execution_count": 10,
   "id": "c06aa7c5",
   "metadata": {},
   "outputs": [],
   "source": [
    "# Get tiel and content from article\n",
    "url = links[0]\n",
    "response = get(url, headers=headers)\n",
    "soup = BeautifulSoup(response.text)"
   ]
  },
  {
   "cell_type": "code",
   "execution_count": 11,
   "id": "c0e9c672",
   "metadata": {},
   "outputs": [
    {
     "data": {
      "text/plain": [
       "'Spotlight on APIDA Voices: Celebrating Heritage and Inspiring Change ft. Arbeena Thapa'"
      ]
     },
     "execution_count": 11,
     "metadata": {},
     "output_type": "execute_result"
    }
   ],
   "source": [
    "soup.find('h1', class_='entry-title').text"
   ]
  },
  {
   "cell_type": "code",
   "execution_count": 12,
   "id": "32866432",
   "metadata": {
    "scrolled": true
   },
   "outputs": [
    {
     "data": {
      "text/plain": [
       "'May is traditionally known as Asian American and Pacific Islander (AAPI) Heritage Month. This month we celebrate the history and contributions made possible by our AAPI friends, family, and community. We also examine our level of support and seek opportunities to better understand the AAPI community.\\n\\nIn an effort to address real concerns and experiences, we sat down with Arbeena Thapa, one of Codeup’s Financial Aid and Enrollment Managers.\\nArbeena identifies as Nepali American and Desi. Arbeena’s parents immigrated to Texas in 1988 for better employment and educational opportunities. Arbeena’s older sister was five when they made the move to the US. Arbeena was born later, becoming the first in her family to be a US citizen.\\nAt Codeup we take our efforts at inclusivity very seriously. After speaking with Arbeena, we were taught that the term AAPI excludes Desi-American individuals. Hence, we will now use the term Asian Pacific Islander Desi American (APIDA).\\nHere is how the rest of our conversation with Arbeena went!\\nHow do you celebrate or connect with your heritage and cultural traditions?\\n“I celebrate Nepal’s version of Christmas or Dashain. This is a nine-day celebration also known as Dussehra. I grew up as Hindu and I identify as Hindu, this is a very large part of my heritage. “\\n“Other ways I connect with my culture include sharing food! Momos are South Asian Dumplings and they’re my favorite to make and share.”\\n“On my Asian American side, I am an advocate of immigrant justice and erasure within APIDA social or political movements. I participate in events to embrace my identity such as immigrant justice advocacy because I come from a mixed-status family. I’ve always been in a community with undocumented Asian immigrants. .”\\nWhat are some of the challenges you have faced as an APIDA individual, personally or professionally?\\n“I often struggle with being gendered as compliant or a pushover. Professionally, I am often stereotyped as meek, so I’ve been overlooked for leadership roles. We are seen as perpetually foreign; people tend to other us in that way, yet put us on a pedestal for what a model minority looks like. This has made me hesitant to share my heritage in the past because these assumptions get mapped onto me. ”\\nCan you describe some common barriers of entry that APIDA individuals, specifically women may face when trying to enter or advance in the workplace?\\n“Being overlooked for leadership. In the past, I have not been viewed as a leader. People sometimes have preconceived stereotypes of Asian women not being able to be bold, or being vocal can be mistaken for being too emotional. “\\nHow do you believe microaggressions impact APIDA individuals in the workplace? Can you provide examples of such microaggressions?\\n“Erasure is big. To me, only saying ‘Merry Christmas’ isn’t inclusive to other religions. People are often resistant to saying ‘Happy Holidays,’ but saying Merry Christmas excludes, and does not appreciate my heritage. “\\n“Often microaggressions are not micro at all. They typically are not aggressive racialized violence, but the term ‘micro’ minimizes impact.”\\n“Some that I’ve heard are ‘What kind of Asian are you?’ or ‘Where are you from?’ This automatically makes me the ‘other’ and not seen as American. Even within the APIDA community, South Asians are overlooked as “Asian”.”\\nHow important is representation, specifically APIDA representation, in organizational leadership positions?\\n“I want to say that it is important to have someone who looks like you in leadership roles, and it is, but those leaders may not share the same beliefs as you. Certain privileges such as wealth, resources, or lack of interaction with lower-socioeconomic-status Asian Americans may cause a difference in community politics. I do not think the bamboo ceiling is acceptable, but the company you work for plays a big part in your politics and belief alignment.”\\nHow do you feel about code-switching, and have you ever felt it necessary to code-switch?\\n“I like sharing South Asian terms or connecting with others that have similar heritage and culture. A workplace that is welcoming to going into this sort of breakout is refreshing and makes space for us. However, having to code-switch could also mean a workplace that is not conducive and welcoming of other cultures. “\\nFinally, in your opinion, what long-term strategies can create lasting change in the workplace and ensure support, equality, and inclusion for APIDA individuals?\\n“Prior to a career in financial aid, I did a lot of research related to the post-9/11 immigration of the South Asian diaspora. This background made me heavily rely on grassroots organizing. Hire the people that want to innovate, hire the changemakers, hire the button-pushers. Reduce reliance on whiteness as change. This will become natural for the organization and become organizational change. Change comes from us on the ground.”\\nA huge thank you to Arbeena Thapa for sharing her experiences, and being vulnerable with us. Your words were inspiring and the opportunity to understand your perspective more has been valuable. We hope we can become better support for the APIDA community as we learn and grow on our journey of cultivating inclusive growth.'"
      ]
     },
     "execution_count": 12,
     "metadata": {},
     "output_type": "execute_result"
    }
   ],
   "source": [
    "soup.find('div', class_='entry-content').text.strip()"
   ]
  },
  {
   "cell_type": "code",
   "execution_count": 19,
   "id": "0cb41b3e",
   "metadata": {},
   "outputs": [],
   "source": [
    "#put it together\n",
    "url = 'https://codeup.edu/blog/'\n",
    "heders = {'User-Agent':'Codeup Data Science'}\n",
    "response = get(url, headers=headers)\n",
    "\n",
    "soup = BeautifulSoup(response.content, 'html.parser')\n",
    "\n",
    "links = [link['href']for link in soup.select('.more-link')]\n",
    "\n",
    "articles= []\n",
    "\n",
    "for url in links:\n",
    "    url_response = get(url, headers = headers)\n",
    "    soup = BeautifulSoup(url_response.text)\n",
    "    \n",
    "    title = soup.find('h1', class_='entry-title').text\n",
    "    content = soup.find('div', class_='entry-content').text.strip()\n",
    "    \n",
    "    article_dict = {\n",
    "        'title': title,\n",
    "        'content': content\n",
    "    }\n",
    "    articles.append(article_dict)"
   ]
  },
  {
   "cell_type": "code",
   "execution_count": 23,
   "id": "c7f43d89",
   "metadata": {
    "scrolled": true
   },
   "outputs": [
    {
     "data": {
      "text/plain": [
       "[{'title': 'Spotlight on APIDA Voices: Celebrating Heritage and Inspiring Change ft. Arbeena Thapa',\n",
       "  'content': 'May is traditionally known as Asian American and Pacific Islander (AAPI) Heritage Month. This month we celebrate the history and contributions made possible by our AAPI friends, family, and community. We also examine our level of support and seek opportunities to better understand the AAPI community.\\n\\nIn an effort to address real concerns and experiences, we sat down with Arbeena Thapa, one of Codeup’s Financial Aid and Enrollment Managers.\\nArbeena identifies as Nepali American and Desi. Arbeena’s parents immigrated to Texas in 1988 for better employment and educational opportunities. Arbeena’s older sister was five when they made the move to the US. Arbeena was born later, becoming the first in her family to be a US citizen.\\nAt Codeup we take our efforts at inclusivity very seriously. After speaking with Arbeena, we were taught that the term AAPI excludes Desi-American individuals. Hence, we will now use the term Asian Pacific Islander Desi American (APIDA).\\nHere is how the rest of our conversation with Arbeena went!\\nHow do you celebrate or connect with your heritage and cultural traditions?\\n“I celebrate Nepal’s version of Christmas or Dashain. This is a nine-day celebration also known as Dussehra. I grew up as Hindu and I identify as Hindu, this is a very large part of my heritage. “\\n“Other ways I connect with my culture include sharing food! Momos are South Asian Dumplings and they’re my favorite to make and share.”\\n“On my Asian American side, I am an advocate of immigrant justice and erasure within APIDA social or political movements. I participate in events to embrace my identity such as immigrant justice advocacy because I come from a mixed-status family. I’ve always been in a community with undocumented Asian immigrants. .”\\nWhat are some of the challenges you have faced as an APIDA individual, personally or professionally?\\n“I often struggle with being gendered as compliant or a pushover. Professionally, I am often stereotyped as meek, so I’ve been overlooked for leadership roles. We are seen as perpetually foreign; people tend to other us in that way, yet put us on a pedestal for what a model minority looks like. This has made me hesitant to share my heritage in the past because these assumptions get mapped onto me. ”\\nCan you describe some common barriers of entry that APIDA individuals, specifically women may face when trying to enter or advance in the workplace?\\n“Being overlooked for leadership. In the past, I have not been viewed as a leader. People sometimes have preconceived stereotypes of Asian women not being able to be bold, or being vocal can be mistaken for being too emotional. “\\nHow do you believe microaggressions impact APIDA individuals in the workplace? Can you provide examples of such microaggressions?\\n“Erasure is big. To me, only saying ‘Merry Christmas’ isn’t inclusive to other religions. People are often resistant to saying ‘Happy Holidays,’ but saying Merry Christmas excludes, and does not appreciate my heritage. “\\n“Often microaggressions are not micro at all. They typically are not aggressive racialized violence, but the term ‘micro’ minimizes impact.”\\n“Some that I’ve heard are ‘What kind of Asian are you?’ or ‘Where are you from?’ This automatically makes me the ‘other’ and not seen as American. Even within the APIDA community, South Asians are overlooked as “Asian”.”\\nHow important is representation, specifically APIDA representation, in organizational leadership positions?\\n“I want to say that it is important to have someone who looks like you in leadership roles, and it is, but those leaders may not share the same beliefs as you. Certain privileges such as wealth, resources, or lack of interaction with lower-socioeconomic-status Asian Americans may cause a difference in community politics. I do not think the bamboo ceiling is acceptable, but the company you work for plays a big part in your politics and belief alignment.”\\nHow do you feel about code-switching, and have you ever felt it necessary to code-switch?\\n“I like sharing South Asian terms or connecting with others that have similar heritage and culture. A workplace that is welcoming to going into this sort of breakout is refreshing and makes space for us. However, having to code-switch could also mean a workplace that is not conducive and welcoming of other cultures. “\\nFinally, in your opinion, what long-term strategies can create lasting change in the workplace and ensure support, equality, and inclusion for APIDA individuals?\\n“Prior to a career in financial aid, I did a lot of research related to the post-9/11 immigration of the South Asian diaspora. This background made me heavily rely on grassroots organizing. Hire the people that want to innovate, hire the changemakers, hire the button-pushers. Reduce reliance on whiteness as change. This will become natural for the organization and become organizational change. Change comes from us on the ground.”\\nA huge thank you to Arbeena Thapa for sharing her experiences, and being vulnerable with us. Your words were inspiring and the opportunity to understand your perspective more has been valuable. We hope we can become better support for the APIDA community as we learn and grow on our journey of cultivating inclusive growth.'}]"
      ]
     },
     "execution_count": 23,
     "metadata": {},
     "output_type": "execute_result"
    }
   ],
   "source": [
    "articles[0:1]"
   ]
  },
  {
   "cell_type": "code",
   "execution_count": 25,
   "id": "b0defbd3",
   "metadata": {},
   "outputs": [
    {
     "data": {
      "text/html": [
       "<div>\n",
       "<style scoped>\n",
       "    .dataframe tbody tr th:only-of-type {\n",
       "        vertical-align: middle;\n",
       "    }\n",
       "\n",
       "    .dataframe tbody tr th {\n",
       "        vertical-align: top;\n",
       "    }\n",
       "\n",
       "    .dataframe thead th {\n",
       "        text-align: right;\n",
       "    }\n",
       "</style>\n",
       "<table border=\"1\" class=\"dataframe\">\n",
       "  <thead>\n",
       "    <tr style=\"text-align: right;\">\n",
       "      <th></th>\n",
       "      <th>title</th>\n",
       "      <th>content</th>\n",
       "    </tr>\n",
       "  </thead>\n",
       "  <tbody>\n",
       "    <tr>\n",
       "      <th>0</th>\n",
       "      <td>Spotlight on APIDA Voices: Celebrating Heritag...</td>\n",
       "      <td>May is traditionally known as Asian American a...</td>\n",
       "    </tr>\n",
       "    <tr>\n",
       "      <th>1</th>\n",
       "      <td>Women in tech: Panelist Spotlight – Magdalena ...</td>\n",
       "      <td>Women in tech: Panelist Spotlight – Magdalena ...</td>\n",
       "    </tr>\n",
       "    <tr>\n",
       "      <th>2</th>\n",
       "      <td>Women in tech: Panelist Spotlight – Rachel Rob...</td>\n",
       "      <td>Women in tech: Panelist Spotlight – Rachel Rob...</td>\n",
       "    </tr>\n",
       "    <tr>\n",
       "      <th>3</th>\n",
       "      <td>Women in Tech: Panelist Spotlight – Sarah Mellor</td>\n",
       "      <td>Women in tech: Panelist Spotlight – Sarah Mell...</td>\n",
       "    </tr>\n",
       "    <tr>\n",
       "      <th>4</th>\n",
       "      <td>Women in Tech: Panelist Spotlight – Madeleine ...</td>\n",
       "      <td>Women in tech: Panelist Spotlight – Madeleine ...</td>\n",
       "    </tr>\n",
       "    <tr>\n",
       "      <th>5</th>\n",
       "      <td>Black Excellence in Tech: Panelist Spotlight –...</td>\n",
       "      <td>Black excellence in tech: Panelist Spotlight –...</td>\n",
       "    </tr>\n",
       "  </tbody>\n",
       "</table>\n",
       "</div>"
      ],
      "text/plain": [
       "                                               title  \\\n",
       "0  Spotlight on APIDA Voices: Celebrating Heritag...   \n",
       "1  Women in tech: Panelist Spotlight – Magdalena ...   \n",
       "2  Women in tech: Panelist Spotlight – Rachel Rob...   \n",
       "3   Women in Tech: Panelist Spotlight – Sarah Mellor   \n",
       "4  Women in Tech: Panelist Spotlight – Madeleine ...   \n",
       "5  Black Excellence in Tech: Panelist Spotlight –...   \n",
       "\n",
       "                                             content  \n",
       "0  May is traditionally known as Asian American a...  \n",
       "1  Women in tech: Panelist Spotlight – Magdalena ...  \n",
       "2  Women in tech: Panelist Spotlight – Rachel Rob...  \n",
       "3  Women in tech: Panelist Spotlight – Sarah Mell...  \n",
       "4  Women in tech: Panelist Spotlight – Madeleine ...  \n",
       "5  Black excellence in tech: Panelist Spotlight –...  "
      ]
     },
     "execution_count": 25,
     "metadata": {},
     "output_type": "execute_result"
    }
   ],
   "source": [
    "# put articles in pdf\n",
    "\n",
    "blog_article_df = pd.DataFrame(articles)\n",
    "blog_article_df"
   ]
  },
  {
   "cell_type": "code",
   "execution_count": 26,
   "id": "d5949630",
   "metadata": {},
   "outputs": [],
   "source": [
    "blog_article_df.to_csv('blog_articles.csv', index = False)"
   ]
  },
  {
   "cell_type": "markdown",
   "id": "1ba8dd4e",
   "metadata": {},
   "source": [
    "# News Articles\n",
    "\n",
    "We will now be scraping text data from inshorts, a website that provides a brief overview of many different topics\n",
    "\n",
    "Write a functionthat scrapes the news articles for the following topics:\n",
    "    * Business\n",
    "    * Sports\n",
    "    * technology\n",
    "    * Entertainment\n",
    "The end product of this should be a function named get_news_artciles that returna list of dictionaries, where each dictionary has this shape\n",
    "\n",
    "{\n",
    "\n",
    "    'title': 'The article title',\n",
    "    \n",
    "    'content': 'The article content',\n",
    "    \n",
    "    'category': 'business' # for example\n",
    "    \n",
    "}"
   ]
  },
  {
   "cell_type": "code",
   "execution_count": 29,
   "id": "da3b6bef",
   "metadata": {},
   "outputs": [],
   "source": [
    "url = 'https://inshorts.com/en/read' # this site will populate new article everyday\n",
    "response = get(url)\n",
    "soup = BeautifulSoup(response.content, 'html.parser')"
   ]
  },
  {
   "cell_type": "code",
   "execution_count": 30,
   "id": "18a2975a",
   "metadata": {},
   "outputs": [
    {
     "data": {
      "text/plain": [
       "'LinkedIn lays off 668 employees    '"
      ]
     },
     "execution_count": 30,
     "metadata": {},
     "output_type": "execute_result"
    }
   ],
   "source": [
    "# Get title\n",
    "soup.find_all('span',itemprop='headline')[0].text"
   ]
  },
  {
   "cell_type": "code",
   "execution_count": 33,
   "id": "bcd22ec9",
   "metadata": {},
   "outputs": [
    {
     "data": {
      "text/plain": [
       "\"Microsoft-owned LinkedIn on Monday said it would lay off 668 employees across its engineering, talent and finance teams in the second round of job cuts this year. The job cuts affect more than 3% of the company's workforce. In May this year, LinkedIn decided to cut 716 jobs across sales, operations and support teams.\""
      ]
     },
     "execution_count": 33,
     "metadata": {},
     "output_type": "execute_result"
    }
   ],
   "source": [
    "# Get content\n",
    "soup.find_all('div', itemprop='articleBody')[0].text"
   ]
  },
  {
   "cell_type": "code",
   "execution_count": 34,
   "id": "808f6d70",
   "metadata": {},
   "outputs": [],
   "source": [
    "# Put it together\n",
    "\n",
    "categories = ['business', 'sports', 'technology', 'entertainment']\n",
    "\n",
    "inshorts = []\n",
    "\n",
    "for category in categories:\n",
    "    \n",
    "    url = 'https://inshorts.com/en/read' + '/' + category\n",
    "    response = get(url)\n",
    "    soup = BeautifulSoup(response.content, 'html.parser')\n",
    "    \n",
    "    titles = [span.text for span in soup.find_all('span', itemprop='headline')]\n",
    "    contents = [div.text for div in soup.find_all('div', itemprop='articleBody')]\n",
    "    \n",
    "    for i in range(len(titles)):\n",
    "        \n",
    "        article = {\n",
    "            'title': titles[i],\n",
    "            'content': contents[i],\n",
    "            'category': category,\n",
    "        }\n",
    "        \n",
    "        inshorts.append(article)"
   ]
  },
  {
   "cell_type": "code",
   "execution_count": 37,
   "id": "092e762b",
   "metadata": {},
   "outputs": [
    {
     "data": {
      "text/plain": [
       "[{'title': 'LinkedIn lays off 668 employees    ',\n",
       "  'content': \"Microsoft-owned LinkedIn on Monday said it would lay off 668 employees across its engineering, talent and finance teams in the second round of job cuts this year. The job cuts affect more than 3% of the company's workforce. In May this year, LinkedIn decided to cut 716 jobs across sales, operations and support teams.\",\n",
       "  'category': 'business'},\n",
       " {'title': '6-month notice period for pilots not unreasonable: Akasa Air CEO',\n",
       "  'content': 'Akasa Air CEO Vinay Dube said a notice period of six months for pilots is \"not unreasonable\" because the job has a \"long training footprint\". \"You can\\'t create a pilot overnight...you need time. At Akasa...we have a 10-year plan for pilots,\" Dube said. Last month, Akasa sued some of its pilots for resigning without serving their notice period.',\n",
       "  'category': 'business'},\n",
       " {'title': 'Some working overtime to harm us: Adani Group amid Mahua Moitra bribery allegations',\n",
       "  'content': 'Adani Group has reacted amid allegations of TMC MP Mahua Moitra \\'accepting bribes from Hiranandani Group\\' for asking questions \\'targeting\\' Gautam Adani in Parliament. \"This development corroborates our [earlier] statement...that some groups and individuals have been working overtime to harm our name, goodwill and market standing,\" said an Adani spokesperson. Moitra has denied the allegations.',\n",
       "  'category': 'business'},\n",
       " {'title': 'Oil prices steady above $90 as investors assess Israel-Hamas war',\n",
       "  'content': 'Brent oil prices steadied above $90 (over ₹7,492) per barrel on Monday as investors are trying to assess the impact of the ongoing Israel-Hamas war. This comes amid concerns of potential escalation involving Iran. Palestinian militant group Hamas had launched rockets at Israel in a surprise attack earlier this month. ',\n",
       "  'category': 'business'},\n",
       " {'title': \"SC rejects telcos' plea to see licence fee as revenue expenditure\",\n",
       "  'content': 'The Supreme Court on Monday rejected a request by telecommunication companies to treat licence fees paid post-July 1999 as revenue expenditure. Ruling in favour of the Income Tax Department, the court held that the fees should be treated as capital expenditure. Earlier, the Delhi High Court held that the fees cannot be construed as capital expenditure.',\n",
       "  'category': 'business'}]"
      ]
     },
     "execution_count": 37,
     "metadata": {},
     "output_type": "execute_result"
    }
   ],
   "source": [
    "inshorts[0:5]"
   ]
  },
  {
   "cell_type": "code",
   "execution_count": 40,
   "id": "48f716e9",
   "metadata": {},
   "outputs": [
    {
     "data": {
      "text/html": [
       "<div>\n",
       "<style scoped>\n",
       "    .dataframe tbody tr th:only-of-type {\n",
       "        vertical-align: middle;\n",
       "    }\n",
       "\n",
       "    .dataframe tbody tr th {\n",
       "        vertical-align: top;\n",
       "    }\n",
       "\n",
       "    .dataframe thead th {\n",
       "        text-align: right;\n",
       "    }\n",
       "</style>\n",
       "<table border=\"1\" class=\"dataframe\">\n",
       "  <thead>\n",
       "    <tr style=\"text-align: right;\">\n",
       "      <th></th>\n",
       "      <th>title</th>\n",
       "      <th>content</th>\n",
       "      <th>category</th>\n",
       "    </tr>\n",
       "  </thead>\n",
       "  <tbody>\n",
       "    <tr>\n",
       "      <th>0</th>\n",
       "      <td>LinkedIn lays off 668 employees</td>\n",
       "      <td>Microsoft-owned LinkedIn on Monday said it wou...</td>\n",
       "      <td>business</td>\n",
       "    </tr>\n",
       "    <tr>\n",
       "      <th>1</th>\n",
       "      <td>6-month notice period for pilots not unreasona...</td>\n",
       "      <td>Akasa Air CEO Vinay Dube said a notice period ...</td>\n",
       "      <td>business</td>\n",
       "    </tr>\n",
       "    <tr>\n",
       "      <th>2</th>\n",
       "      <td>Some working overtime to harm us: Adani Group ...</td>\n",
       "      <td>Adani Group has reacted amid allegations of TM...</td>\n",
       "      <td>business</td>\n",
       "    </tr>\n",
       "    <tr>\n",
       "      <th>3</th>\n",
       "      <td>Oil prices steady above $90 as investors asses...</td>\n",
       "      <td>Brent oil prices steadied above $90 (over ₹7,4...</td>\n",
       "      <td>business</td>\n",
       "    </tr>\n",
       "    <tr>\n",
       "      <th>4</th>\n",
       "      <td>SC rejects telcos' plea to see licence fee as ...</td>\n",
       "      <td>The Supreme Court on Monday rejected a request...</td>\n",
       "      <td>business</td>\n",
       "    </tr>\n",
       "    <tr>\n",
       "      <th>5</th>\n",
       "      <td>SpiceJet stock dip amid 'Gangwal not intereste...</td>\n",
       "      <td>SpiceJet's shares tanked 11% on Monday after a...</td>\n",
       "      <td>business</td>\n",
       "    </tr>\n",
       "    <tr>\n",
       "      <th>6</th>\n",
       "      <td>HDFC Bank's Q2 profit jumps 50% to ₹15,976 crore</td>\n",
       "      <td>HDFC Bank on Monday reported a net profit of o...</td>\n",
       "      <td>business</td>\n",
       "    </tr>\n",
       "    <tr>\n",
       "      <th>7</th>\n",
       "      <td>What is the TCS bribes-for-jobs scandal?</td>\n",
       "      <td>The bribes-for-jobs scandal at Tata Consultanc...</td>\n",
       "      <td>business</td>\n",
       "    </tr>\n",
       "    <tr>\n",
       "      <th>8</th>\n",
       "      <td>Former Bank of China Chairman Liu arrested ove...</td>\n",
       "      <td>Liu Liange, who resigned as the Chairman of Ba...</td>\n",
       "      <td>business</td>\n",
       "    </tr>\n",
       "    <tr>\n",
       "      <th>9</th>\n",
       "      <td>BioNTech warns of write-off of up to ₹7,888 cr...</td>\n",
       "      <td>Germany's BioNTech flagged write-downs of up t...</td>\n",
       "      <td>business</td>\n",
       "    </tr>\n",
       "    <tr>\n",
       "      <th>10</th>\n",
       "      <td>Every team will play 3 spinners vs Eng: Kaif o...</td>\n",
       "      <td>Ex-India cricketer Mohammad Kaif said every te...</td>\n",
       "      <td>sports</td>\n",
       "    </tr>\n",
       "    <tr>\n",
       "      <th>11</th>\n",
       "      <td>Babar looked scared, Pak batters were afraid v...</td>\n",
       "      <td>Former Pakistan captain Moin Khan said Babar A...</td>\n",
       "      <td>sports</td>\n",
       "    </tr>\n",
       "    <tr>\n",
       "      <th>12</th>\n",
       "      <td>ICC to review Pak team director's 'Seemed like...</td>\n",
       "      <td>The ICC will review Pakistan team director Mic...</td>\n",
       "      <td>sports</td>\n",
       "    </tr>\n",
       "    <tr>\n",
       "      <th>13</th>\n",
       "      <td>Shahid Afridi says his sister is fighting for ...</td>\n",
       "      <td>Former Pakistan captain Shahid Afridi took to ...</td>\n",
       "      <td>sports</td>\n",
       "    </tr>\n",
       "    <tr>\n",
       "      <th>14</th>\n",
       "      <td>Run-out is right thing to do: Shamsi on Starc'...</td>\n",
       "      <td>South African spinner Tabraiz Shamsi took to I...</td>\n",
       "      <td>sports</td>\n",
       "    </tr>\n",
       "    <tr>\n",
       "      <th>15</th>\n",
       "      <td>Pakistan batters looked timid against Kuldeep ...</td>\n",
       "      <td>Former Pakistan captain Rashid Latif said that...</td>\n",
       "      <td>sports</td>\n",
       "    </tr>\n",
       "    <tr>\n",
       "      <th>16</th>\n",
       "      <td>ICC lists some of the biggest ODI World Cup up...</td>\n",
       "      <td>Following Afghanistan's 69-run win over Englan...</td>\n",
       "      <td>sports</td>\n",
       "    </tr>\n",
       "    <tr>\n",
       "      <th>17</th>\n",
       "      <td>Dust storm hits Australia-Sri Lanka match, peo...</td>\n",
       "      <td>A dust storm hit Australia-Sri Lanka ODI World...</td>\n",
       "      <td>sports</td>\n",
       "    </tr>\n",
       "    <tr>\n",
       "      <th>18</th>\n",
       "      <td>Babar Azam has scored many runs for himself: G...</td>\n",
       "      <td>Ex-India opener Gautam Gambhir said Babar Azam...</td>\n",
       "      <td>sports</td>\n",
       "    </tr>\n",
       "    <tr>\n",
       "      <th>19</th>\n",
       "      <td>Only place for bouncers at chest height is sta...</td>\n",
       "      <td>Discussing Pakistan's approach while bowling t...</td>\n",
       "      <td>sports</td>\n",
       "    </tr>\n",
       "    <tr>\n",
       "      <th>20</th>\n",
       "      <td>LinkedIn lays off 668 employees</td>\n",
       "      <td>Microsoft-owned LinkedIn on Monday said it wou...</td>\n",
       "      <td>technology</td>\n",
       "    </tr>\n",
       "    <tr>\n",
       "      <th>21</th>\n",
       "      <td>Govt asks YouTube to add disclaimer to 'fake n...</td>\n",
       "      <td>IT Ministry has advised YouTube to put a \"news...</td>\n",
       "      <td>technology</td>\n",
       "    </tr>\n",
       "    <tr>\n",
       "      <th>22</th>\n",
       "      <td>What is the TCS bribes-for-jobs scandal?</td>\n",
       "      <td>The bribes-for-jobs scandal at Tata Consultanc...</td>\n",
       "      <td>technology</td>\n",
       "    </tr>\n",
       "    <tr>\n",
       "      <th>23</th>\n",
       "      <td>Twitch streamer Hasan Piker raises ₹5.6 cr for...</td>\n",
       "      <td>Hasan Piker, who livestreams videos on Twitch,...</td>\n",
       "      <td>technology</td>\n",
       "    </tr>\n",
       "    <tr>\n",
       "      <th>24</th>\n",
       "      <td>Activision Blizzard CEO to leave firm with $40...</td>\n",
       "      <td>Activision Blizzard CEO Bobby Kotick will leav...</td>\n",
       "      <td>technology</td>\n",
       "    </tr>\n",
       "    <tr>\n",
       "      <th>25</th>\n",
       "      <td>TCS to hire 40,000 freshers this year</td>\n",
       "      <td>Tata Consultancy Services (TCS) is on track to...</td>\n",
       "      <td>technology</td>\n",
       "    </tr>\n",
       "    <tr>\n",
       "      <th>26</th>\n",
       "      <td>High risk warning for iPhone 8 and later model...</td>\n",
       "      <td>The government's CERT-In has issued a high ris...</td>\n",
       "      <td>technology</td>\n",
       "    </tr>\n",
       "    <tr>\n",
       "      <th>27</th>\n",
       "      <td>Google, Microsoft chatbots falsely say there's...</td>\n",
       "      <td>Amid the Israel-Hamas war, Google's Bard and M...</td>\n",
       "      <td>technology</td>\n",
       "    </tr>\n",
       "    <tr>\n",
       "      <th>28</th>\n",
       "      <td>NASA said, 'Why don't you sell this to US': IS...</td>\n",
       "      <td>ISRO Chairman S Somanath said that experts rep...</td>\n",
       "      <td>technology</td>\n",
       "    </tr>\n",
       "    <tr>\n",
       "      <th>29</th>\n",
       "      <td>Advertising revenue on X drops massively durin...</td>\n",
       "      <td>X owner Elon Musk said advertising revenue on ...</td>\n",
       "      <td>technology</td>\n",
       "    </tr>\n",
       "    <tr>\n",
       "      <th>30</th>\n",
       "      <td>Fatima reacts to comparisons with Kangana for ...</td>\n",
       "      <td>Fatima Sana Shaikh, who will be seen portrayin...</td>\n",
       "      <td>entertainment</td>\n",
       "    </tr>\n",
       "    <tr>\n",
       "      <th>31</th>\n",
       "      <td>Sunny left no stone unturned to show he was su...</td>\n",
       "      <td>Actor Bobby Deol, speaking about his actor-bro...</td>\n",
       "      <td>entertainment</td>\n",
       "    </tr>\n",
       "    <tr>\n",
       "      <th>32</th>\n",
       "      <td>Was concerned if it'd be accepted: Rani on SRK...</td>\n",
       "      <td>Rani Mukerji, on Kuch Kuch Hota Hai's 25th ann...</td>\n",
       "      <td>entertainment</td>\n",
       "    </tr>\n",
       "    <tr>\n",
       "      <th>33</th>\n",
       "      <td>Kajol dresses as Anjali on 25th anniversary of...</td>\n",
       "      <td>On the 25th anniversary of 'Kuch Kuch Hota Hai...</td>\n",
       "      <td>entertainment</td>\n",
       "    </tr>\n",
       "    <tr>\n",
       "      <th>34</th>\n",
       "      <td>I'm a fan of only 2 actors, that's Alia and Ra...</td>\n",
       "      <td>Actor Bobby Deol said that he is a fan of two ...</td>\n",
       "      <td>entertainment</td>\n",
       "    </tr>\n",
       "    <tr>\n",
       "      <th>35</th>\n",
       "      <td>Want to say I'm feminist because it means gend...</td>\n",
       "      <td>Actress Shefali Shah has said that if asked, s...</td>\n",
       "      <td>entertainment</td>\n",
       "    </tr>\n",
       "    <tr>\n",
       "      <th>36</th>\n",
       "      <td>SRK forgets Salman while thanking KKHH cast, r...</td>\n",
       "      <td>Marking 25th anniversary of 'Kuch Kuch Hota Ha...</td>\n",
       "      <td>entertainment</td>\n",
       "    </tr>\n",
       "    <tr>\n",
       "      <th>37</th>\n",
       "      <td>As long as I'm last, I'm okay: Ratna on Naseer...</td>\n",
       "      <td>Ratna Pathak Shah, in an interview with Humans...</td>\n",
       "      <td>entertainment</td>\n",
       "    </tr>\n",
       "    <tr>\n",
       "      <th>38</th>\n",
       "      <td>People think those working in Bollywood aren't...</td>\n",
       "      <td>Actress Bhagyashree said that people often thi...</td>\n",
       "      <td>entertainment</td>\n",
       "    </tr>\n",
       "    <tr>\n",
       "      <th>39</th>\n",
       "      <td>Jairam recalls Uzbek PM's joy over Hema's msg ...</td>\n",
       "      <td>On the occasion of actor and BJP MP Hema Malin...</td>\n",
       "      <td>entertainment</td>\n",
       "    </tr>\n",
       "  </tbody>\n",
       "</table>\n",
       "</div>"
      ],
      "text/plain": [
       "                                                title  \\\n",
       "0                 LinkedIn lays off 668 employees       \n",
       "1   6-month notice period for pilots not unreasona...   \n",
       "2   Some working overtime to harm us: Adani Group ...   \n",
       "3   Oil prices steady above $90 as investors asses...   \n",
       "4   SC rejects telcos' plea to see licence fee as ...   \n",
       "5   SpiceJet stock dip amid 'Gangwal not intereste...   \n",
       "6    HDFC Bank's Q2 profit jumps 50% to ₹15,976 crore   \n",
       "7            What is the TCS bribes-for-jobs scandal?   \n",
       "8   Former Bank of China Chairman Liu arrested ove...   \n",
       "9   BioNTech warns of write-off of up to ₹7,888 cr...   \n",
       "10  Every team will play 3 spinners vs Eng: Kaif o...   \n",
       "11  Babar looked scared, Pak batters were afraid v...   \n",
       "12  ICC to review Pak team director's 'Seemed like...   \n",
       "13  Shahid Afridi says his sister is fighting for ...   \n",
       "14  Run-out is right thing to do: Shamsi on Starc'...   \n",
       "15  Pakistan batters looked timid against Kuldeep ...   \n",
       "16  ICC lists some of the biggest ODI World Cup up...   \n",
       "17  Dust storm hits Australia-Sri Lanka match, peo...   \n",
       "18  Babar Azam has scored many runs for himself: G...   \n",
       "19  Only place for bouncers at chest height is sta...   \n",
       "20                LinkedIn lays off 668 employees       \n",
       "21  Govt asks YouTube to add disclaimer to 'fake n...   \n",
       "22           What is the TCS bribes-for-jobs scandal?   \n",
       "23  Twitch streamer Hasan Piker raises ₹5.6 cr for...   \n",
       "24  Activision Blizzard CEO to leave firm with $40...   \n",
       "25             TCS to hire 40,000 freshers this year    \n",
       "26  High risk warning for iPhone 8 and later model...   \n",
       "27  Google, Microsoft chatbots falsely say there's...   \n",
       "28  NASA said, 'Why don't you sell this to US': IS...   \n",
       "29  Advertising revenue on X drops massively durin...   \n",
       "30  Fatima reacts to comparisons with Kangana for ...   \n",
       "31  Sunny left no stone unturned to show he was su...   \n",
       "32  Was concerned if it'd be accepted: Rani on SRK...   \n",
       "33  Kajol dresses as Anjali on 25th anniversary of...   \n",
       "34  I'm a fan of only 2 actors, that's Alia and Ra...   \n",
       "35  Want to say I'm feminist because it means gend...   \n",
       "36  SRK forgets Salman while thanking KKHH cast, r...   \n",
       "37  As long as I'm last, I'm okay: Ratna on Naseer...   \n",
       "38  People think those working in Bollywood aren't...   \n",
       "39  Jairam recalls Uzbek PM's joy over Hema's msg ...   \n",
       "\n",
       "                                              content       category  \n",
       "0   Microsoft-owned LinkedIn on Monday said it wou...       business  \n",
       "1   Akasa Air CEO Vinay Dube said a notice period ...       business  \n",
       "2   Adani Group has reacted amid allegations of TM...       business  \n",
       "3   Brent oil prices steadied above $90 (over ₹7,4...       business  \n",
       "4   The Supreme Court on Monday rejected a request...       business  \n",
       "5   SpiceJet's shares tanked 11% on Monday after a...       business  \n",
       "6   HDFC Bank on Monday reported a net profit of o...       business  \n",
       "7   The bribes-for-jobs scandal at Tata Consultanc...       business  \n",
       "8   Liu Liange, who resigned as the Chairman of Ba...       business  \n",
       "9   Germany's BioNTech flagged write-downs of up t...       business  \n",
       "10  Ex-India cricketer Mohammad Kaif said every te...         sports  \n",
       "11  Former Pakistan captain Moin Khan said Babar A...         sports  \n",
       "12  The ICC will review Pakistan team director Mic...         sports  \n",
       "13  Former Pakistan captain Shahid Afridi took to ...         sports  \n",
       "14  South African spinner Tabraiz Shamsi took to I...         sports  \n",
       "15  Former Pakistan captain Rashid Latif said that...         sports  \n",
       "16  Following Afghanistan's 69-run win over Englan...         sports  \n",
       "17  A dust storm hit Australia-Sri Lanka ODI World...         sports  \n",
       "18  Ex-India opener Gautam Gambhir said Babar Azam...         sports  \n",
       "19  Discussing Pakistan's approach while bowling t...         sports  \n",
       "20  Microsoft-owned LinkedIn on Monday said it wou...     technology  \n",
       "21  IT Ministry has advised YouTube to put a \"news...     technology  \n",
       "22  The bribes-for-jobs scandal at Tata Consultanc...     technology  \n",
       "23  Hasan Piker, who livestreams videos on Twitch,...     technology  \n",
       "24  Activision Blizzard CEO Bobby Kotick will leav...     technology  \n",
       "25  Tata Consultancy Services (TCS) is on track to...     technology  \n",
       "26  The government's CERT-In has issued a high ris...     technology  \n",
       "27  Amid the Israel-Hamas war, Google's Bard and M...     technology  \n",
       "28  ISRO Chairman S Somanath said that experts rep...     technology  \n",
       "29  X owner Elon Musk said advertising revenue on ...     technology  \n",
       "30  Fatima Sana Shaikh, who will be seen portrayin...  entertainment  \n",
       "31  Actor Bobby Deol, speaking about his actor-bro...  entertainment  \n",
       "32  Rani Mukerji, on Kuch Kuch Hota Hai's 25th ann...  entertainment  \n",
       "33  On the 25th anniversary of 'Kuch Kuch Hota Hai...  entertainment  \n",
       "34  Actor Bobby Deol said that he is a fan of two ...  entertainment  \n",
       "35  Actress Shefali Shah has said that if asked, s...  entertainment  \n",
       "36  Marking 25th anniversary of 'Kuch Kuch Hota Ha...  entertainment  \n",
       "37  Ratna Pathak Shah, in an interview with Humans...  entertainment  \n",
       "38  Actress Bhagyashree said that people often thi...  entertainment  \n",
       "39  On the occasion of actor and BJP MP Hema Malin...  entertainment  "
      ]
     },
     "execution_count": 40,
     "metadata": {},
     "output_type": "execute_result"
    }
   ],
   "source": [
    "inshorts_article_df = pd.DataFrame(inshorts)\n",
    "inshorts_article_df"
   ]
  },
  {
   "cell_type": "code",
   "execution_count": 41,
   "id": "45dd6865",
   "metadata": {},
   "outputs": [],
   "source": [
    "inshorts_article_df.to_csv('news_articles.csv', index=False)"
   ]
  },
  {
   "cell_type": "code",
   "execution_count": null,
   "id": "04809394",
   "metadata": {},
   "outputs": [],
   "source": []
  }
 ],
 "metadata": {
  "kernelspec": {
   "display_name": "Python 3 (ipykernel)",
   "language": "python",
   "name": "python3"
  },
  "language_info": {
   "codemirror_mode": {
    "name": "ipython",
    "version": 3
   },
   "file_extension": ".py",
   "mimetype": "text/x-python",
   "name": "python",
   "nbconvert_exporter": "python",
   "pygments_lexer": "ipython3",
   "version": "3.10.9"
  }
 },
 "nbformat": 4,
 "nbformat_minor": 5
}
