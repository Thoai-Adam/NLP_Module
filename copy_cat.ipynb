{
 "cells": [
  {
   "cell_type": "markdown",
   "id": "206b9ea4",
   "metadata": {},
   "source": [
    "# Regex"
   ]
  },
  {
   "cell_type": "code",
   "execution_count": 1,
   "id": "10255ed8",
   "metadata": {},
   "outputs": [],
   "source": [
    "import pandas as pd\n",
    "import numpy as np\n",
    "import re"
   ]
  },
  {
   "cell_type": "code",
   "execution_count": 2,
   "id": "bcf7216c",
   "metadata": {},
   "outputs": [],
   "source": [
    "# re.findall(patter,string)"
   ]
  },
  {
   "cell_type": "code",
   "execution_count": 3,
   "id": "e4463656",
   "metadata": {},
   "outputs": [
    {
     "data": {
      "text/plain": [
       "['a']"
      ]
     },
     "execution_count": 3,
     "metadata": {},
     "output_type": "execute_result"
    }
   ],
   "source": [
    "#Literals\n",
    "subject = 'abc'\n",
    "#find the letter a\n",
    "re.findall(r'a', subject)"
   ]
  },
  {
   "cell_type": "code",
   "execution_count": 4,
   "id": "19e2c2ec",
   "metadata": {},
   "outputs": [
    {
     "data": {
      "text/plain": [
       "[]"
      ]
     },
     "execution_count": 4,
     "metadata": {},
     "output_type": "execute_result"
    }
   ],
   "source": [
    "# find the letter d\n",
    "re.findall(r'd', subject)"
   ]
  },
  {
   "cell_type": "code",
   "execution_count": 5,
   "id": "d749b8ab",
   "metadata": {},
   "outputs": [
    {
     "data": {
      "text/plain": [
       "(['not', 'not'], ['Not'])"
      ]
     },
     "execution_count": 5,
     "metadata": {},
     "output_type": "execute_result"
    }
   ],
   "source": [
    "# more complex\n",
    "subject = 'Mary had a little lamb. 1x little lamb. Not 10 lambs, not 12, not 22, just one ~'\n",
    "#find not\n",
    "re.findall(r'not',subject),re.findall(r'Not',subject)\n"
   ]
  },
  {
   "cell_type": "code",
   "execution_count": 6,
   "id": "0fdd8f89",
   "metadata": {},
   "outputs": [
    {
     "data": {
      "text/plain": [
       "['Not', 'not', 'not']"
      ]
     },
     "execution_count": 6,
     "metadata": {},
     "output_type": "execute_result"
    }
   ],
   "source": [
    "#regex flag: re.IGNORECASE\n",
    "regexp= r'not'\n",
    "re.findall(regexp,subject,re.IGNORECASE)"
   ]
  },
  {
   "cell_type": "code",
   "execution_count": 7,
   "id": "f506cb2d",
   "metadata": {},
   "outputs": [
    {
     "data": {
      "text/plain": [
       "['lamb', 'lamb', 'lamb']"
      ]
     },
     "execution_count": 7,
     "metadata": {},
     "output_type": "execute_result"
    }
   ],
   "source": [
    "#find lamb\n",
    "re.findall(r'lamb',subject,re.IGNORECASE)"
   ]
  },
  {
   "cell_type": "markdown",
   "id": "b77238b2",
   "metadata": {},
   "source": [
    "# Metacharacters\n",
    "\n",
    "* \\w: any letter or digit\n",
    "* \\W: anything that is not a letter or digit\n",
    "* \\d: any digit\n",
    "* \\D: anything that is not a digit\n",
    "* \\s: any white space\n",
    "* . : anything"
   ]
  },
  {
   "cell_type": "code",
   "execution_count": 8,
   "id": "c58a9368",
   "metadata": {},
   "outputs": [
    {
     "data": {
      "text/plain": [
       "['a', 'b', 'c', 'c', 'c', 'C', '1', '2', '3', 'w']"
      ]
     },
     "execution_count": 8,
     "metadata": {},
     "output_type": "execute_result"
    }
   ],
   "source": [
    "# tryout\n",
    "subject = 'abcccC. 123!w'\n",
    "# find any number or letter\n",
    "re.findall(r'\\w', subject)"
   ]
  },
  {
   "cell_type": "code",
   "execution_count": 9,
   "id": "dd85a5f8",
   "metadata": {},
   "outputs": [
    {
     "data": {
      "text/plain": [
       "['abcccC']"
      ]
     },
     "execution_count": 9,
     "metadata": {},
     "output_type": "execute_result"
    }
   ],
   "source": [
    "# try \\w\\w\n",
    "re.findall(r'\\w\\w\\w\\w\\w\\w', subject)"
   ]
  },
  {
   "cell_type": "code",
   "execution_count": 10,
   "id": "93082880",
   "metadata": {},
   "outputs": [
    {
     "data": {
      "text/plain": [
       "['.', ' ', '!']"
      ]
     },
     "execution_count": 10,
     "metadata": {},
     "output_type": "execute_result"
    }
   ],
   "source": [
    "# try \\W\n",
    "re.findall(r'\\W', subject)"
   ]
  },
  {
   "cell_type": "code",
   "execution_count": 11,
   "id": "ccf65c9f",
   "metadata": {},
   "outputs": [
    {
     "data": {
      "text/plain": [
       "['123']"
      ]
     },
     "execution_count": 11,
     "metadata": {},
     "output_type": "execute_result"
    }
   ],
   "source": [
    "# try \\d\n",
    "re.findall(r'\\d\\d\\d',subject)"
   ]
  },
  {
   "cell_type": "code",
   "execution_count": 12,
   "id": "629c90e9",
   "metadata": {},
   "outputs": [
    {
     "data": {
      "text/plain": [
       "['a', 'b', 'c', 'c', 'c', 'C', '.', ' ', '!', 'w']"
      ]
     },
     "execution_count": 12,
     "metadata": {},
     "output_type": "execute_result"
    }
   ],
   "source": [
    "# try \\D\n",
    "re.findall(r'\\D',subject)"
   ]
  },
  {
   "cell_type": "code",
   "execution_count": 13,
   "id": "56c26760",
   "metadata": {},
   "outputs": [
    {
     "data": {
      "text/plain": [
       "[' ']"
      ]
     },
     "execution_count": 13,
     "metadata": {},
     "output_type": "execute_result"
    }
   ],
   "source": [
    "# try \\s\n",
    "re.findall(r'\\s',subject)"
   ]
  },
  {
   "cell_type": "code",
   "execution_count": 14,
   "id": "8e205f94",
   "metadata": {},
   "outputs": [
    {
     "data": {
      "text/plain": [
       "['a', 'b', 'c', 'c', 'c', 'C', '.', ' ', '1', '2', '3', '!', 'w']"
      ]
     },
     "execution_count": 14,
     "metadata": {},
     "output_type": "execute_result"
    }
   ],
   "source": [
    "# try .\n",
    "re.findall(r'.',subject)"
   ]
  },
  {
   "cell_type": "markdown",
   "id": "09af5fe9",
   "metadata": {},
   "source": [
    "Mini-Exercise\n",
    "* Match the string 'c 1' using only metacharacters\n",
    "* The returned list should have only one element in it\n",
    "* Find 3 different syntax combinations"
   ]
  },
  {
   "cell_type": "code",
   "execution_count": 15,
   "id": "81275a13",
   "metadata": {},
   "outputs": [
    {
     "data": {
      "text/plain": [
       "['c 1']"
      ]
     },
     "execution_count": 15,
     "metadata": {},
     "output_type": "execute_result"
    }
   ],
   "source": [
    "subject = 'c 1'\n",
    "re.findall(r'c 1',subject)"
   ]
  },
  {
   "cell_type": "code",
   "execution_count": 16,
   "id": "02d87038",
   "metadata": {},
   "outputs": [
    {
     "data": {
      "text/plain": [
       "['c 1']"
      ]
     },
     "execution_count": 16,
     "metadata": {},
     "output_type": "execute_result"
    }
   ],
   "source": [
    "re.findall(r'.\\W\\d',subject)"
   ]
  },
  {
   "cell_type": "code",
   "execution_count": 17,
   "id": "25ad01bf",
   "metadata": {},
   "outputs": [
    {
     "data": {
      "text/plain": [
       "['c 1']"
      ]
     },
     "execution_count": 17,
     "metadata": {},
     "output_type": "execute_result"
    }
   ],
   "source": [
    "re.findall(r'...',subject)"
   ]
  },
  {
   "cell_type": "code",
   "execution_count": 18,
   "id": "f737cde1",
   "metadata": {},
   "outputs": [
    {
     "data": {
      "text/plain": [
       "['c 1']"
      ]
     },
     "execution_count": 18,
     "metadata": {},
     "output_type": "execute_result"
    }
   ],
   "source": [
    "re.findall(r'\\w\\s\\d',subject)"
   ]
  },
  {
   "cell_type": "code",
   "execution_count": 19,
   "id": "1f67c0ba",
   "metadata": {},
   "outputs": [
    {
     "data": {
      "text/plain": [
       "['c 1']"
      ]
     },
     "execution_count": 19,
     "metadata": {},
     "output_type": "execute_result"
    }
   ],
   "source": [
    "re.findall(r'\\D\\s\\d', subject)"
   ]
  },
  {
   "cell_type": "code",
   "execution_count": 20,
   "id": "cf9515b5",
   "metadata": {},
   "outputs": [
    {
     "data": {
      "text/plain": [
       "['c 1']"
      ]
     },
     "execution_count": 20,
     "metadata": {},
     "output_type": "execute_result"
    }
   ],
   "source": [
    "re.findall(r'\\w\\W\\w',subject)"
   ]
  },
  {
   "cell_type": "markdown",
   "id": "ed3a34fc",
   "metadata": {},
   "source": [
    "# Metacharacters\n",
    "\n",
    "* \\w: any letter or digit\n",
    "* \\W: anything that is not a letter or digit\n",
    "* \\d: any digit\n",
    "* \\D: anything that is not a digit\n",
    "* \\s: any white space\n",
    "* . : anything"
   ]
  },
  {
   "cell_type": "markdown",
   "id": "291170dd",
   "metadata": {},
   "source": [
    "# Repeating\n",
    "* {}: custom number of repetitions\n",
    "     * {x}: exactly x repetition\n",
    "     * {x,}: x or more\n",
    "     * {x,y}: between x and y repetitions\n",
    "* *: zero or more\n",
    "* +: one or more\n",
    "* ?:optional/not greed"
   ]
  },
  {
   "cell_type": "code",
   "execution_count": 21,
   "id": "02aee0e7",
   "metadata": {},
   "outputs": [],
   "source": [
    "subject = 'ccccc! 123 ccc! 99!'"
   ]
  },
  {
   "cell_type": "code",
   "execution_count": 22,
   "id": "42c46238",
   "metadata": {},
   "outputs": [
    {
     "data": {
      "text/plain": [
       "['ccccc! 123 ccc! 99!']"
      ]
     },
     "execution_count": 22,
     "metadata": {},
     "output_type": "execute_result"
    }
   ],
   "source": [
    "# find the whole string\n",
    "re.findall(r'.+',subject)"
   ]
  },
  {
   "cell_type": "code",
   "execution_count": 23,
   "id": "adae478d",
   "metadata": {},
   "outputs": [
    {
     "data": {
      "text/plain": [
       "(['ccc', 'ccc'], ['ccccc', 'ccc'])"
      ]
     },
     "execution_count": 23,
     "metadata": {},
     "output_type": "execute_result"
    }
   ],
   "source": [
    "#find all the c groups\n",
    "re.findall(r'c{3}',subject), re.findall(r'c{3,}',subject)"
   ]
  },
  {
   "cell_type": "code",
   "execution_count": 24,
   "id": "5b5db9f6",
   "metadata": {},
   "outputs": [],
   "source": [
    "# find 123 and anything after it "
   ]
  },
  {
   "cell_type": "code",
   "execution_count": 25,
   "id": "94b1f15d",
   "metadata": {},
   "outputs": [
    {
     "data": {
      "text/plain": [
       "'ccccc! 123 ccc! 99!'"
      ]
     },
     "execution_count": 25,
     "metadata": {},
     "output_type": "execute_result"
    }
   ],
   "source": [
    "subject"
   ]
  },
  {
   "cell_type": "code",
   "execution_count": 26,
   "id": "0123d8d0",
   "metadata": {},
   "outputs": [
    {
     "data": {
      "text/plain": [
       "['123 ccc! 99!']"
      ]
     },
     "execution_count": 26,
     "metadata": {},
     "output_type": "execute_result"
    }
   ],
   "source": [
    "#123: find literal 123\n",
    "#.: find anything\n",
    "#+: find everything after\n",
    "re.findall(r'123.+', subject)"
   ]
  },
  {
   "cell_type": "code",
   "execution_count": 27,
   "id": "3dbd5e0b",
   "metadata": {},
   "outputs": [
    {
     "data": {
      "text/plain": [
       "(['!', '!', '!'], ['! 123 ccc!'])"
      ]
     },
     "execution_count": 27,
     "metadata": {},
     "output_type": "execute_result"
    }
   ],
   "source": [
    "# find the exclamation points and everything inbetween the first two \n",
    "re.findall(r'!',subject), re.findall(r'!.+?!',subject)"
   ]
  },
  {
   "cell_type": "markdown",
   "id": "b79bf8cd",
   "metadata": {},
   "source": [
    "Mini Exercise\n",
    "From the below string, find the following information:\n",
    "\n",
    "* Find all the numbers\n",
    "* Find the number that has exactly 5 digits\n",
    "* Find numbers that has 4 or more digits\n",
    "* Find the sentences contained in quotes\n",
    "* Find http:// or https://"
   ]
  },
  {
   "cell_type": "code",
   "execution_count": 28,
   "id": "6dcc08e7",
   "metadata": {},
   "outputs": [
    {
     "data": {
      "text/plain": [
       "'Codeup, founded in 2014, is located at 600 Navarro St. Suite 350, San Antonio, TX 78230. tagline: \"launch your career in tech!\" You can find us online at http://codeup.com and our alumni portal is located at https://alumni.codeup.comand \"codeup is a great school\"! 100,000'"
      ]
     },
     "execution_count": 28,
     "metadata": {},
     "output_type": "execute_result"
    }
   ],
   "source": [
    "subject = '''\n",
    "Codeup, founded in 2014, is located at 600 Navarro St. \n",
    "Suite 350, San Antonio, TX 78230. \n",
    "tagline: \"launch your career in tech!\" \n",
    "You can find us online at http://codeup.com \n",
    "and our alumni portal is located at https://alumni.codeup.com\n",
    "and \"codeup is a great school\"! 100,000\n",
    "'''\n",
    "\n",
    "subject = subject.replace('\\n','')\n",
    "subject"
   ]
  },
  {
   "cell_type": "code",
   "execution_count": 29,
   "id": "ec82d9fe",
   "metadata": {},
   "outputs": [
    {
     "data": {
      "text/plain": [
       "['2014', '600', '350', '78230', '100', '000']"
      ]
     },
     "execution_count": 29,
     "metadata": {},
     "output_type": "execute_result"
    }
   ],
   "source": [
    "# find all numbers\n",
    "re.findall(r'\\d+',subject)"
   ]
  },
  {
   "cell_type": "code",
   "execution_count": 30,
   "id": "49c480a3",
   "metadata": {},
   "outputs": [
    {
     "data": {
      "text/plain": [
       "['78230']"
      ]
     },
     "execution_count": 30,
     "metadata": {},
     "output_type": "execute_result"
    }
   ],
   "source": [
    "# find a number that has exactly 5 digits\n",
    "re.findall(r'\\d{5}',subject)"
   ]
  },
  {
   "cell_type": "code",
   "execution_count": 31,
   "id": "43a1d040",
   "metadata": {},
   "outputs": [
    {
     "data": {
      "text/plain": [
       "['2014', '78230']"
      ]
     },
     "execution_count": 31,
     "metadata": {},
     "output_type": "execute_result"
    }
   ],
   "source": [
    "# find numbers that has 4 or more digits\n",
    "re.findall(r'\\d{4,}',subject)"
   ]
  },
  {
   "cell_type": "code",
   "execution_count": 32,
   "id": "220ef4b0",
   "metadata": {},
   "outputs": [
    {
     "data": {
      "text/plain": [
       "['\"launch your career in tech!\"', '\"codeup is a great school\"']"
      ]
     },
     "execution_count": 32,
     "metadata": {},
     "output_type": "execute_result"
    }
   ],
   "source": [
    "# find the sentences contained in quotes\n",
    "re.findall(r'\".+?\"',subject)"
   ]
  },
  {
   "cell_type": "code",
   "execution_count": 33,
   "id": "ae214af2",
   "metadata": {},
   "outputs": [
    {
     "data": {
      "text/plain": [
       "['http://', 'https://']"
      ]
     },
     "execution_count": 33,
     "metadata": {},
     "output_type": "execute_result"
    }
   ],
   "source": [
    "# find http:// or https://\n",
    "re.findall(r'http://|https://', subject),\n",
    "re.findall(r'htt.+?//',subject),\n",
    "re.findall(r'http.*?//',subject),\n",
    "re.findall(r'https?://', subject),\n",
    "re.findall(r'https*://',subject)"
   ]
  },
  {
   "cell_type": "markdown",
   "id": "f4e05caa",
   "metadata": {},
   "source": [
    "# Metacharacters\n",
    "\n",
    "* \\w: any letter or digit\n",
    "* \\W: anything that is not a letter or digit\n",
    "* \\d: any digit\n",
    "* \\D: anything that is not a digit\n",
    "* \\s: any white space\n",
    "* . : anything\n",
    "\n",
    "\n",
    "# Repeating\n",
    "* {}: custom number of repetitions\n",
    "     * {x}: exactly x repetition\n",
    "     * {x,}: x or more\n",
    "     * {x,y}: between x and y repetitions\n",
    "* *: zero or more\n",
    "* +: one or more\n",
    "* ?:optional/not greed\n",
    "\n",
    "\n",
    "# Any of / None of \n",
    "\n",
    "* []: will match any element inside of\n",
    "* [^]: will match any element NOT inside of\n",
    "* [-]: will match a range of values inside of"
   ]
  },
  {
   "cell_type": "code",
   "execution_count": 34,
   "id": "9b27d475",
   "metadata": {},
   "outputs": [],
   "source": [
    "# match using brackets\n",
    "subject = 'abc 123745 1bc'"
   ]
  },
  {
   "cell_type": "code",
   "execution_count": 36,
   "id": "0c4d3b5a",
   "metadata": {},
   "outputs": [
    {
     "data": {
      "text/plain": [
       "(['a', 'b', 'b'], ['a', 'b', 'b'])"
      ]
     },
     "execution_count": 36,
     "metadata": {},
     "output_type": "execute_result"
    }
   ],
   "source": [
    "# find a or b \n",
    "re.findall(r'a|b',subject), re.findall(r'[ab]',subject)"
   ]
  },
  {
   "cell_type": "code",
   "execution_count": 37,
   "id": "6c9ea49d",
   "metadata": {},
   "outputs": [
    {
     "data": {
      "text/plain": [
       "['c', ' ', '1', '2', '3', '7', '4', '5', ' ', '1', 'c']"
      ]
     },
     "execution_count": 37,
     "metadata": {},
     "output_type": "execute_result"
    }
   ],
   "source": [
    "# find values that are NOT a or b \n",
    "re.findall(r'[^ab]',subject)"
   ]
  },
  {
   "cell_type": "code",
   "execution_count": 38,
   "id": "9b49fd7e",
   "metadata": {},
   "outputs": [
    {
     "data": {
      "text/plain": [
       "['2', '3', '4']"
      ]
     },
     "execution_count": 38,
     "metadata": {},
     "output_type": "execute_result"
    }
   ],
   "source": [
    "# find values that is between 2 and 4\n",
    "re.findall(r'[2-4]',subject)"
   ]
  },
  {
   "cell_type": "markdown",
   "id": "2d59994b",
   "metadata": {},
   "source": [
    "Anchors\n",
    "* ^: starts with\n",
    "* $: ends with\n",
    "* \\b: word boundary"
   ]
  },
  {
   "cell_type": "code",
   "execution_count": 49,
   "id": "8b9e053e",
   "metadata": {},
   "outputs": [],
   "source": [
    "subject = 'kiwi aardvark banana codeup data science academy extra'"
   ]
  },
  {
   "cell_type": "code",
   "execution_count": 44,
   "id": "2c03fb0e",
   "metadata": {},
   "outputs": [
    {
     "data": {
      "text/plain": [
       "['iwi', 'aardvark', 'anana', 'odeup', 'ata', 'ience', 'academy', 'extra']"
      ]
     },
     "execution_count": 44,
     "metadata": {},
     "output_type": "execute_result"
    }
   ],
   "source": [
    "# match all words that start with a vowel\n",
    "re.findall(r'[aeiou]\\w+',subject)"
   ]
  },
  {
   "cell_type": "code",
   "execution_count": 45,
   "id": "3205c54d",
   "metadata": {},
   "outputs": [
    {
     "data": {
      "text/plain": [
       "['aardvark', 'academy', 'extra']"
      ]
     },
     "execution_count": 45,
     "metadata": {},
     "output_type": "execute_result"
    }
   ],
   "source": [
    "#using a boundary \n",
    "re.findall(r'\\b[aeiou]\\w+',subject)"
   ]
  },
  {
   "cell_type": "code",
   "execution_count": 50,
   "id": "678249ad",
   "metadata": {},
   "outputs": [
    {
     "data": {
      "text/plain": [
       "[]"
      ]
     },
     "execution_count": 50,
     "metadata": {},
     "output_type": "execute_result"
    }
   ],
   "source": [
    "# using a carrot\n",
    "re.findall(r'^[aeiou]\\w+',subject)"
   ]
  },
  {
   "cell_type": "code",
   "execution_count": 58,
   "id": "2688f40b",
   "metadata": {},
   "outputs": [
    {
     "data": {
      "text/plain": [
       "'kiwi aardvark banana codeup data science academy extra'"
      ]
     },
     "execution_count": 58,
     "metadata": {},
     "output_type": "execute_result"
    }
   ],
   "source": [
    "subject"
   ]
  },
  {
   "cell_type": "code",
   "execution_count": 57,
   "id": "934c5e3a",
   "metadata": {},
   "outputs": [
    {
     "data": {
      "text/plain": [
       "['kiwi', 'aardvark', 'banana', 'codeup', 'data', 'science', 'academy', 'extra']"
      ]
     },
     "execution_count": 57,
     "metadata": {},
     "output_type": "execute_result"
    }
   ],
   "source": [
    "subjects = subject.split()\n",
    "subjects"
   ]
  },
  {
   "cell_type": "code",
   "execution_count": 59,
   "id": "62ae24ac",
   "metadata": {},
   "outputs": [
    {
     "name": "stdout",
     "output_type": "stream",
     "text": [
      "[]\n",
      "['aardvark']\n",
      "[]\n",
      "[]\n",
      "[]\n",
      "[]\n",
      "['academy']\n",
      "['extra']\n"
     ]
    }
   ],
   "source": [
    "for sub in subjects:\n",
    "    print(re.findall(r'^[aioue]\\w+',sub))"
   ]
  },
  {
   "cell_type": "code",
   "execution_count": 60,
   "id": "a6296aa5",
   "metadata": {},
   "outputs": [
    {
     "data": {
      "text/plain": [
       "['kiwi', 'banana', 'data', 'science', 'extra']"
      ]
     },
     "execution_count": 60,
     "metadata": {},
     "output_type": "execute_result"
    }
   ],
   "source": [
    "# match all words that end with a vowel\n",
    "re.findall(r'\\w+[aeiou]\\b',subject)"
   ]
  },
  {
   "cell_type": "code",
   "execution_count": 61,
   "id": "c6ed1a37",
   "metadata": {},
   "outputs": [
    {
     "data": {
      "text/plain": [
       "['extra']"
      ]
     },
     "execution_count": 61,
     "metadata": {},
     "output_type": "execute_result"
    }
   ],
   "source": [
    "# match the word extra\n",
    "re.findall(r'\\w+[aeiou]$',subject)"
   ]
  },
  {
   "cell_type": "code",
   "execution_count": 62,
   "id": "76d2cac1",
   "metadata": {},
   "outputs": [
    {
     "data": {
      "text/plain": [
       "['kiwi', 'aardvark']"
      ]
     },
     "execution_count": 62,
     "metadata": {},
     "output_type": "execute_result"
    }
   ],
   "source": [
    "# match kiwi and aardvard\n",
    "re.findall(r'[ka][ia]\\w+',subject)"
   ]
  },
  {
   "cell_type": "code",
   "execution_count": 65,
   "id": "452c55dc",
   "metadata": {},
   "outputs": [
    {
     "data": {
      "text/plain": [
       "['i', 'i', 'i']"
      ]
     },
     "execution_count": 65,
     "metadata": {},
     "output_type": "execute_result"
    }
   ],
   "source": [
    "re.findall(r'i|j ',subject)"
   ]
  },
  {
   "cell_type": "markdown",
   "id": "869451ea",
   "metadata": {},
   "source": [
    "Mini Exercise\n",
    "\n",
    "Write regular expressions to find the following values\n",
    "\n",
    "    Find any even digits (regardless if its apart of a bigger number)\n",
    "    Find entire numbers that are even\n",
    "    Find 2 or more odd digits in a row.\n",
    "    Find all the capital letters\n",
    "    Find all words that start with a capital letter\n",
    "<\\div>"
   ]
  },
  {
   "cell_type": "code",
   "execution_count": 67,
   "id": "11c8f644",
   "metadata": {},
   "outputs": [
    {
     "data": {
      "text/plain": [
       "'Codeup, founded in 2014, is located at 600 Navarro St. Suite 350, San Antonio, TX 78230. tagline: \"launch your career in tech!\" You can find us online at http://codeup.com and our alumni portal is located at https://alumni.codeup.comand \"codeup is a great school\"!'"
      ]
     },
     "execution_count": 67,
     "metadata": {},
     "output_type": "execute_result"
    }
   ],
   "source": [
    "subject = '''\n",
    "Codeup, founded in 2014, is located at 600 Navarro St. \n",
    "Suite 350, San Antonio, TX 78230. \n",
    "tagline: \"launch your career in tech!\" \n",
    "You can find us online at http://codeup.com \n",
    "and our alumni portal is located at https://alumni.codeup.com\n",
    "and \"codeup is a great school\"!\n",
    "'''\n",
    "\n",
    "subject = subject.replace('\\n','')\n",
    "subject"
   ]
  },
  {
   "cell_type": "code",
   "execution_count": 68,
   "id": "48178ac0",
   "metadata": {},
   "outputs": [
    {
     "data": {
      "text/plain": [
       "['2', '0', '4', '6', '0', '0', '0', '8', '2', '0']"
      ]
     },
     "execution_count": 68,
     "metadata": {},
     "output_type": "execute_result"
    }
   ],
   "source": [
    "# find any even digits (regardless if its apart of a bigger number)\n",
    "re.findall(r'[24680]',subject)"
   ]
  },
  {
   "cell_type": "code",
   "execution_count": 70,
   "id": "fb0b94be",
   "metadata": {},
   "outputs": [
    {
     "data": {
      "text/plain": [
       "['2014', '600', '350', '78230']"
      ]
     },
     "execution_count": 70,
     "metadata": {},
     "output_type": "execute_result"
    }
   ],
   "source": [
    "# find entire numbers that are even\n",
    "re.findall(r'\\d*[24680]\\b',subject)"
   ]
  },
  {
   "cell_type": "code",
   "execution_count": 72,
   "id": "85deee26",
   "metadata": {},
   "outputs": [
    {
     "data": {
      "text/plain": [
       "(['35'], ['35'])"
      ]
     },
     "execution_count": 72,
     "metadata": {},
     "output_type": "execute_result"
    }
   ],
   "source": [
    "# find 2 or more odd digits in a row (regardless if its apart of a bigger number)\n",
    "re.findall(r'[13579][13579]',subject), re.findall(r'[13579]{2,}',subject)"
   ]
  },
  {
   "cell_type": "code",
   "execution_count": 73,
   "id": "e7f46a92",
   "metadata": {},
   "outputs": [
    {
     "data": {
      "text/plain": [
       "['C', 'N', 'S', 'S', 'S', 'A', 'T', 'X', 'Y']"
      ]
     },
     "execution_count": 73,
     "metadata": {},
     "output_type": "execute_result"
    }
   ],
   "source": [
    "# find all the capital letters\n",
    "re.findall(r'[A-Z]',subject)"
   ]
  },
  {
   "cell_type": "code",
   "execution_count": 74,
   "id": "924961c5",
   "metadata": {},
   "outputs": [
    {
     "data": {
      "text/plain": [
       "['Codeup', 'Navarro', 'St', 'Suite', 'San', 'Antonio', 'TX', 'You']"
      ]
     },
     "execution_count": 74,
     "metadata": {},
     "output_type": "execute_result"
    }
   ],
   "source": [
    "# find all words taht start with a capital letter\n",
    "re.findall(r'[A-Z]\\w+',subject)"
   ]
  },
  {
   "cell_type": "code",
   "execution_count": null,
   "id": "57f7a151",
   "metadata": {},
   "outputs": [],
   "source": [
    "# Capture Group"
   ]
  }
 ],
 "metadata": {
  "kernelspec": {
   "display_name": "Python 3 (ipykernel)",
   "language": "python",
   "name": "python3"
  },
  "language_info": {
   "codemirror_mode": {
    "name": "ipython",
    "version": 3
   },
   "file_extension": ".py",
   "mimetype": "text/x-python",
   "name": "python",
   "nbconvert_exporter": "python",
   "pygments_lexer": "ipython3",
   "version": "3.11.4"
  }
 },
 "nbformat": 4,
 "nbformat_minor": 5
}
