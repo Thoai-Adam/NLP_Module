{
 "cells": [
  {
   "cell_type": "markdown",
   "id": "206b9ea4",
   "metadata": {},
   "source": [
    "# Regex"
   ]
  },
  {
   "cell_type": "code",
   "execution_count": 1,
   "id": "10255ed8",
   "metadata": {},
   "outputs": [],
   "source": [
    "import pandas as pd\n",
    "import numpy as np\n",
    "import re"
   ]
  },
  {
   "cell_type": "code",
   "execution_count": 2,
   "id": "bcf7216c",
   "metadata": {},
   "outputs": [],
   "source": [
    "# re.findall(patter,string)"
   ]
  },
  {
   "cell_type": "code",
   "execution_count": 3,
   "id": "e4463656",
   "metadata": {},
   "outputs": [
    {
     "data": {
      "text/plain": [
       "['a']"
      ]
     },
     "execution_count": 3,
     "metadata": {},
     "output_type": "execute_result"
    }
   ],
   "source": [
    "#Literals\n",
    "subject = 'abc'\n",
    "#find the letter a\n",
    "re.findall(r'a', subject)"
   ]
  },
  {
   "cell_type": "code",
   "execution_count": 4,
   "id": "19e2c2ec",
   "metadata": {},
   "outputs": [
    {
     "data": {
      "text/plain": [
       "[]"
      ]
     },
     "execution_count": 4,
     "metadata": {},
     "output_type": "execute_result"
    }
   ],
   "source": [
    "# find the letter d\n",
    "re.findall(r'd', subject)"
   ]
  },
  {
   "cell_type": "code",
   "execution_count": 13,
   "id": "d749b8ab",
   "metadata": {},
   "outputs": [
    {
     "data": {
      "text/plain": [
       "(['not', 'not'], ['Not'])"
      ]
     },
     "execution_count": 13,
     "metadata": {},
     "output_type": "execute_result"
    }
   ],
   "source": [
    "# more complex\n",
    "subject = 'Mary had a little lamb. 1x little lamb. Not 10 lambs, not 12, not 22, just one ~'\n",
    "#find not\n",
    "re.findall(r'not',subject),re.findall(r'Not',subject)\n"
   ]
  },
  {
   "cell_type": "code",
   "execution_count": 15,
   "id": "0fdd8f89",
   "metadata": {},
   "outputs": [
    {
     "data": {
      "text/plain": [
       "['Not', 'not', 'not']"
      ]
     },
     "execution_count": 15,
     "metadata": {},
     "output_type": "execute_result"
    }
   ],
   "source": [
    "#regex flag: re.IGNORECASE\n",
    "regexp= r'not'\n",
    "re.findall(regexp,subject,re.IGNORECASE)"
   ]
  },
  {
   "cell_type": "code",
   "execution_count": 16,
   "id": "f506cb2d",
   "metadata": {},
   "outputs": [
    {
     "data": {
      "text/plain": [
       "['lamb', 'lamb', 'lamb']"
      ]
     },
     "execution_count": 16,
     "metadata": {},
     "output_type": "execute_result"
    }
   ],
   "source": [
    "#find lamb\n",
    "re.findall(r'lamb',subject,re.IGNORECASE)"
   ]
  },
  {
   "cell_type": "markdown",
   "id": "b77238b2",
   "metadata": {},
   "source": [
    "# Metacharacters\n",
    "\n",
    "* \\w: any letter or digit\n",
    "* \\W: anything that is not a letter or digit\n",
    "* \\d: any digit\n",
    "* \\D: anything that is not a digit\n",
    "* \\s: any white space\n",
    "* . : anything"
   ]
  },
  {
   "cell_type": "code",
   "execution_count": 19,
   "id": "c58a9368",
   "metadata": {},
   "outputs": [
    {
     "data": {
      "text/plain": [
       "['a', 'b', 'c', 'c', 'c', 'C', '1', '2', '3', 'w']"
      ]
     },
     "execution_count": 19,
     "metadata": {},
     "output_type": "execute_result"
    }
   ],
   "source": [
    "# tryout\n",
    "subject = 'abcccC. 123!w'\n",
    "# find any number or letter\n",
    "re.findall(r'\\w', subject)"
   ]
  },
  {
   "cell_type": "code",
   "execution_count": 25,
   "id": "dd85a5f8",
   "metadata": {},
   "outputs": [
    {
     "data": {
      "text/plain": [
       "['abcccC']"
      ]
     },
     "execution_count": 25,
     "metadata": {},
     "output_type": "execute_result"
    }
   ],
   "source": [
    "# try \\w\\w\n",
    "re.findall(r'\\w\\w\\w\\w\\w\\w', subject)"
   ]
  },
  {
   "cell_type": "code",
   "execution_count": 29,
   "id": "93082880",
   "metadata": {},
   "outputs": [
    {
     "data": {
      "text/plain": [
       "['.', ' ', '!']"
      ]
     },
     "execution_count": 29,
     "metadata": {},
     "output_type": "execute_result"
    }
   ],
   "source": [
    "# try \\W\n",
    "re.findall(r'\\W', subject)"
   ]
  },
  {
   "cell_type": "code",
   "execution_count": 32,
   "id": "ccf65c9f",
   "metadata": {},
   "outputs": [
    {
     "data": {
      "text/plain": [
       "['123']"
      ]
     },
     "execution_count": 32,
     "metadata": {},
     "output_type": "execute_result"
    }
   ],
   "source": [
    "# try \\d\n",
    "re.findall(r'\\d\\d\\d',subject)"
   ]
  },
  {
   "cell_type": "code",
   "execution_count": 33,
   "id": "629c90e9",
   "metadata": {},
   "outputs": [
    {
     "data": {
      "text/plain": [
       "['a', 'b', 'c', 'c', 'c', 'C', '.', ' ', '!', 'w']"
      ]
     },
     "execution_count": 33,
     "metadata": {},
     "output_type": "execute_result"
    }
   ],
   "source": [
    "# try \\D\n",
    "re.findall(r'\\D',subject)"
   ]
  },
  {
   "cell_type": "code",
   "execution_count": 35,
   "id": "56c26760",
   "metadata": {},
   "outputs": [
    {
     "data": {
      "text/plain": [
       "[' ']"
      ]
     },
     "execution_count": 35,
     "metadata": {},
     "output_type": "execute_result"
    }
   ],
   "source": [
    "# try \\s\n",
    "re.findall(r'\\s',subject)"
   ]
  },
  {
   "cell_type": "code",
   "execution_count": 36,
   "id": "8e205f94",
   "metadata": {},
   "outputs": [
    {
     "data": {
      "text/plain": [
       "['a', 'b', 'c', 'c', 'c', 'C', '.', ' ', '1', '2', '3', '!', 'w']"
      ]
     },
     "execution_count": 36,
     "metadata": {},
     "output_type": "execute_result"
    }
   ],
   "source": [
    "# try .\n",
    "re.findall(r'.',subject)"
   ]
  },
  {
   "cell_type": "markdown",
   "id": "09af5fe9",
   "metadata": {},
   "source": [
    "Mini-Exercise\n",
    "* Match the string 'c 1' using only metacharacters\n",
    "* The returned list should have only one element in it\n",
    "* Find 3 different syntax combinations"
   ]
  },
  {
   "cell_type": "code",
   "execution_count": 42,
   "id": "81275a13",
   "metadata": {},
   "outputs": [
    {
     "data": {
      "text/plain": [
       "['c 1']"
      ]
     },
     "execution_count": 42,
     "metadata": {},
     "output_type": "execute_result"
    }
   ],
   "source": [
    "subject = 'c 1'\n",
    "re.findall(r'c 1',subject)"
   ]
  },
  {
   "cell_type": "code",
   "execution_count": 43,
   "id": "02d87038",
   "metadata": {},
   "outputs": [
    {
     "data": {
      "text/plain": [
       "['c 1']"
      ]
     },
     "execution_count": 43,
     "metadata": {},
     "output_type": "execute_result"
    }
   ],
   "source": [
    "re.findall(r'.\\W\\d',subject)"
   ]
  },
  {
   "cell_type": "code",
   "execution_count": 44,
   "id": "25ad01bf",
   "metadata": {},
   "outputs": [
    {
     "data": {
      "text/plain": [
       "['c 1']"
      ]
     },
     "execution_count": 44,
     "metadata": {},
     "output_type": "execute_result"
    }
   ],
   "source": [
    "re.findall(r'...',subject)"
   ]
  },
  {
   "cell_type": "code",
   "execution_count": 45,
   "id": "f737cde1",
   "metadata": {},
   "outputs": [
    {
     "data": {
      "text/plain": [
       "['c 1']"
      ]
     },
     "execution_count": 45,
     "metadata": {},
     "output_type": "execute_result"
    }
   ],
   "source": [
    "re.findall(r'\\w\\s\\d',subject)"
   ]
  },
  {
   "cell_type": "code",
   "execution_count": 46,
   "id": "1f67c0ba",
   "metadata": {},
   "outputs": [
    {
     "data": {
      "text/plain": [
       "['c 1']"
      ]
     },
     "execution_count": 46,
     "metadata": {},
     "output_type": "execute_result"
    }
   ],
   "source": [
    "re.findall(r'\\D\\s\\d', subject)"
   ]
  },
  {
   "cell_type": "code",
   "execution_count": 47,
   "id": "cf9515b5",
   "metadata": {},
   "outputs": [
    {
     "data": {
      "text/plain": [
       "['c 1']"
      ]
     },
     "execution_count": 47,
     "metadata": {},
     "output_type": "execute_result"
    }
   ],
   "source": [
    "re.findall(r'\\w\\W\\w',subject)"
   ]
  },
  {
   "cell_type": "markdown",
   "id": "ed3a34fc",
   "metadata": {},
   "source": [
    "# Metacharacters\n",
    "\n",
    "* \\w: any letter or digit\n",
    "* \\W: anything that is not a letter or digit\n",
    "* \\d: any digit\n",
    "* \\D: anything that is not a digit\n",
    "* \\s: any white space\n",
    "* . : anything"
   ]
  },
  {
   "cell_type": "markdown",
   "id": "291170dd",
   "metadata": {},
   "source": [
    "# Repeating\n",
    "* {}: custom number of repetitions\n",
    "     * {x}: exactly x repetition\n",
    "     * {x,}: x or more\n",
    "     * {x,y}: between x and y repetitions\n",
    "* *: zero or more\n",
    "* +: one or more\n",
    "* ?:optional/not greed"
   ]
  },
  {
   "cell_type": "code",
   "execution_count": 49,
   "id": "02aee0e7",
   "metadata": {},
   "outputs": [],
   "source": [
    "subject = 'ccccc! 123 ccc! 99!'"
   ]
  },
  {
   "cell_type": "code",
   "execution_count": 51,
   "id": "42c46238",
   "metadata": {},
   "outputs": [
    {
     "data": {
      "text/plain": [
       "['ccccc! 123 ccc! 99!']"
      ]
     },
     "execution_count": 51,
     "metadata": {},
     "output_type": "execute_result"
    }
   ],
   "source": [
    "# find the whole string\n",
    "re.findall(r'.+',subject)"
   ]
  },
  {
   "cell_type": "code",
   "execution_count": 54,
   "id": "adae478d",
   "metadata": {},
   "outputs": [
    {
     "data": {
      "text/plain": [
       "(['ccc', 'ccc'], ['ccccc', 'ccc'])"
      ]
     },
     "execution_count": 54,
     "metadata": {},
     "output_type": "execute_result"
    }
   ],
   "source": [
    "#find all the c groups\n",
    "re.findall(r'c{3}',subject), re.findall(r'c{3,}',subject)"
   ]
  },
  {
   "cell_type": "code",
   "execution_count": null,
   "id": "5b5db9f6",
   "metadata": {},
   "outputs": [],
   "source": []
  }
 ],
 "metadata": {
  "kernelspec": {
   "display_name": "Python 3 (ipykernel)",
   "language": "python",
   "name": "python3"
  },
  "language_info": {
   "codemirror_mode": {
    "name": "ipython",
    "version": 3
   },
   "file_extension": ".py",
   "mimetype": "text/x-python",
   "name": "python",
   "nbconvert_exporter": "python",
   "pygments_lexer": "ipython3",
   "version": "3.10.9"
  }
 },
 "nbformat": 4,
 "nbformat_minor": 5
}
