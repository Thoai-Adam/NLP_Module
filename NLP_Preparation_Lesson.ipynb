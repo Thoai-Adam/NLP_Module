{
 "cells": [
  {
   "cell_type": "code",
   "execution_count": 1,
   "id": "bdac9702",
   "metadata": {},
   "outputs": [
    {
     "name": "stderr",
     "output_type": "stream",
     "text": [
      "[nltk_data] Downloading package stopwords to\n",
      "[nltk_data]     /Users/lordvoldemort/nltk_data...\n",
      "[nltk_data]   Package stopwords is already up-to-date!\n"
     ]
    },
    {
     "data": {
      "text/plain": [
       "True"
      ]
     },
     "execution_count": 1,
     "metadata": {},
     "output_type": "execute_result"
    }
   ],
   "source": [
    "import nltk; nltk.download('stopwords')"
   ]
  },
  {
   "cell_type": "markdown",
   "id": "7fd85134",
   "metadata": {},
   "source": [
    "1. Convert text to all lower case for normalcy\n",
    "2. Remove any accented characters, non-ASCII characters\n",
    "3. Remove special characters\n",
    "4. Stem or lemmatize the words\n",
    "5. Remove stopwords\n",
    "6. Store the clean text and original text for use in future notebooks\n"
   ]
  },
  {
   "cell_type": "code",
   "execution_count": 2,
   "id": "80133b16",
   "metadata": {},
   "outputs": [],
   "source": [
    "import unicodedata\n",
    "import re\n",
    "import json\n",
    "\n",
    "import nltk\n",
    "from nltk.tokenize.toktok import ToktokTokenizer\n",
    "from nltk.corpus import stopwords\n",
    "\n",
    "import pandas as pd\n"
   ]
  },
  {
   "cell_type": "code",
   "execution_count": 3,
   "id": "56a709da",
   "metadata": {},
   "outputs": [],
   "source": [
    "article = \"Coming into our Data Science program, you will need to know some math and \\\n",
    "stats. However, many of our applicants actually learn in the application process – you \\\n",
    "don’t need to be an expert before applying! Data science is a very accessible field to \\\n",
    "anyone dedicated to learning new skills, and we can work with any applicant to help them \\\n",
    "learn what they need to know. But what “skills” do we mean, exactly? Just what exactly \\\n",
    "are the data science math and stats principles you need to know?', 'What are the main \\\n",
    "math principles you need to know to get into Codeup’s Data Science program?'\"\n"
   ]
  },
  {
   "cell_type": "code",
   "execution_count": 4,
   "id": "214c7b45",
   "metadata": {},
   "outputs": [
    {
     "data": {
      "text/plain": [
       "\"coming into our data science program, you will need to know some math and stats. however, many of our applicants actually learn in the application process – you don’t need to be an expert before applying! data science is a very accessible field to anyone dedicated to learning new skills, and we can work with any applicant to help them learn what they need to know. but what “skills” do we mean, exactly? just what exactly are the data science math and stats principles you need to know?', 'what are the main math principles you need to know to get into codeup’s data science program?'\""
      ]
     },
     "execution_count": 4,
     "metadata": {},
     "output_type": "execute_result"
    }
   ],
   "source": [
    "# convert text to all lower case for normalcy\n",
    "article = article.lower()\n",
    "article"
   ]
  },
  {
   "cell_type": "code",
   "execution_count": 5,
   "id": "bc8eb836",
   "metadata": {},
   "outputs": [],
   "source": [
    "# remove accented characters and normalize and standardize it into ASCII\n",
    "article = unicodedata.normalize('NFKD', article)\\\n",
    "    .encode('ascii','ignore')\\\n",
    "    .decode('utf-8', 'ignore')\n"
   ]
  },
  {
   "cell_type": "code",
   "execution_count": 6,
   "id": "30794936",
   "metadata": {},
   "outputs": [
    {
     "data": {
      "text/plain": [
       "'coming into our data science program, you will need to know some math and stats. however, many of our applicants actually learn in the application process  you dont need to be an expert before applying! data science is a very accessible field to anyone dedicated to learning new skills, and we can wo'"
      ]
     },
     "execution_count": 6,
     "metadata": {},
     "output_type": "execute_result"
    }
   ],
   "source": [
    "article[0:300]"
   ]
  },
  {
   "cell_type": "code",
   "execution_count": 7,
   "id": "f20376a2",
   "metadata": {},
   "outputs": [
    {
     "name": "stdout",
     "output_type": "stream",
     "text": [
      "coming into our data science program you will need to know some math and stats however many of our applicants actually learn in the application process  you dont need to be an expert before applying data science is a very accessible field to anyone dedicated to learning new skills and we can work with any applicant to help them learn what they need to know but what skills do we mean exactly just what exactly are the data science math and stats principles you need to know' 'what are the main math principles you need to know to get into codeups data science program'\n"
     ]
    }
   ],
   "source": [
    "# removing special characters\n",
    "article = re.sub(r\"[^a-z0-9'\\s]\", '', article)\n",
    "print(article)"
   ]
  },
  {
   "cell_type": "markdown",
   "id": "cd24f399",
   "metadata": {},
   "source": [
    "# Tokenization\n",
    "\n",
    "the process of breaking words and any punctuationleft over into discrete units using nltk\n"
   ]
  },
  {
   "cell_type": "code",
   "execution_count": 10,
   "id": "3a15d1c5",
   "metadata": {},
   "outputs": [
    {
     "data": {
      "text/plain": [
       "'coming into our data science program you will need to know some math and stats however many of our applicants actually learn in the application process you dont need to be an expert before applying data science is a very accessible field to anyone dedicated to learning new skills and we can work wit'"
      ]
     },
     "execution_count": 10,
     "metadata": {},
     "output_type": "execute_result"
    }
   ],
   "source": [
    "tokenizer = nltk.tokenize.ToktokTokenizer()\n",
    "tokenizer.tokenize(article, return_str=True)[0:300]"
   ]
  },
  {
   "cell_type": "markdown",
   "id": "52dce933",
   "metadata": {},
   "source": [
    "# Stemming\n",
    "\n",
    "create new words "
   ]
  },
  {
   "cell_type": "code",
   "execution_count": 12,
   "id": "be84e486",
   "metadata": {},
   "outputs": [
    {
     "data": {
      "text/plain": [
       "('call', 'call', 'call')"
      ]
     },
     "execution_count": 12,
     "metadata": {},
     "output_type": "execute_result"
    }
   ],
   "source": [
    "# create the nltk stemmer object, then use it\n",
    "ps = nltk.porter.PorterStemmer()\n",
    "\n",
    "ps.stem('call'), ps.stem('called'), ps.stem('calling')"
   ]
  },
  {
   "cell_type": "code",
   "execution_count": 13,
   "id": "7ff58dab",
   "metadata": {},
   "outputs": [
    {
     "data": {
      "text/plain": [
       "\"come into our data scienc program you will need to know some math and stat howev mani of our applic actual learn in the applic process you dont need to be an expert befor appli data scienc is a veri access field to anyon dedic to learn new skill and we can work with ani applic to help them learn what they need to know but what skill do we mean exactli just what exactli are the data scienc math and stat principl you need to know' 'what are the main math principl you need to know to get into codeup data scienc program'\""
      ]
     },
     "execution_count": 13,
     "metadata": {},
     "output_type": "execute_result"
    }
   ],
   "source": [
    "stems = [ps.stem(word) for word in article.split()]\n",
    "article_stemmed = ' '.join(stems)\n",
    "article_stemmed"
   ]
  },
  {
   "cell_type": "code",
   "execution_count": 14,
   "id": "d9c96f5f",
   "metadata": {},
   "outputs": [
    {
     "data": {
      "text/plain": [
       "to        9\n",
       "need      5\n",
       "data      4\n",
       "scienc    4\n",
       "you       4\n",
       "know      3\n",
       "learn     3\n",
       "and       3\n",
       "math      3\n",
       "the       3\n",
       "dtype: int64"
      ]
     },
     "execution_count": 14,
     "metadata": {},
     "output_type": "execute_result"
    }
   ],
   "source": [
    "pd.Series(stems).value_counts().head(10)"
   ]
  },
  {
   "cell_type": "markdown",
   "id": "206fd46b",
   "metadata": {},
   "source": [
    "# Lemmatization\n",
    "\n",
    "breaking down word but slower than stemming. complex process that result in actual words. most preferred"
   ]
  },
  {
   "cell_type": "code",
   "execution_count": null,
   "id": "fd12daef",
   "metadata": {},
   "outputs": [],
   "source": [
    " "
   ]
  },
  {
   "cell_type": "code",
   "execution_count": null,
   "id": "c07197ac",
   "metadata": {},
   "outputs": [],
   "source": [
    " "
   ]
  },
  {
   "cell_type": "markdown",
   "id": "100f16ed",
   "metadata": {},
   "source": [
    "# Removing Stopwords\n",
    "\n",
    "words that have little or no significance; articles,conunctions, prepositions, ex: a, an, the, like\n",
    "\n",
    "but first, you have to segment text by tokenization"
   ]
  },
  {
   "cell_type": "code",
   "execution_count": 25,
   "id": "1a2cd51f",
   "metadata": {},
   "outputs": [
    {
     "data": {
      "text/plain": [
       "['i', 'me', 'my', 'myself', 'we', 'our', 'ours', 'ourselves', 'you', \"you're\"]"
      ]
     },
     "execution_count": 25,
     "metadata": {},
     "output_type": "execute_result"
    }
   ],
   "source": [
    "stopword_list = stopwords.words('english')\n",
    "\n",
    "stopword_list.remove('no')\n",
    "stopword_list.remove('not')\n",
    "\n",
    "stopword_list[:10]"
   ]
  },
  {
   "cell_type": "code",
   "execution_count": 27,
   "id": "ca11b24a",
   "metadata": {},
   "outputs": [
    {
     "name": "stdout",
     "output_type": "stream",
     "text": [
      "Removed 48 stopwords\n",
      "---\n"
     ]
    }
   ],
   "source": [
    "words = article.split()\n",
    "filtered_words = [w for w in words if w not in stopword_list]\n",
    "\n",
    "print('Removed {} stopwords'.format(len(words)-len(filtered_words)))\n",
    "print('---')"
   ]
  },
  {
   "cell_type": "code",
   "execution_count": 28,
   "id": "2e301331",
   "metadata": {},
   "outputs": [
    {
     "name": "stdout",
     "output_type": "stream",
     "text": [
      "coming data science program need know math stats however many applicants actually learn application process dont need expert applying data science accessible field anyone dedicated learning new skills work applicant help learn need know skills mean exactly exactly data science math stats principles need know' 'what main math principles need know get codeups data science program'\n"
     ]
    }
   ],
   "source": [
    "article_without_stopwords= ' '.join(filtered_words)\n",
    "print(article_without_stopwords)"
   ]
  },
  {
   "cell_type": "code",
   "execution_count": null,
   "id": "3dc575d4",
   "metadata": {},
   "outputs": [],
   "source": []
  }
 ],
 "metadata": {
  "kernelspec": {
   "display_name": "Python 3 (ipykernel)",
   "language": "python",
   "name": "python3"
  },
  "language_info": {
   "codemirror_mode": {
    "name": "ipython",
    "version": 3
   },
   "file_extension": ".py",
   "mimetype": "text/x-python",
   "name": "python",
   "nbconvert_exporter": "python",
   "pygments_lexer": "ipython3",
   "version": "3.10.9"
  }
 },
 "nbformat": 4,
 "nbformat_minor": 5
}
