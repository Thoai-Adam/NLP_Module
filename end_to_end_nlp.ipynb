{
 "cells": [
  {
   "cell_type": "markdown",
   "id": "5b510748",
   "metadata": {},
   "source": [
    "# Data Acquisition"
   ]
  },
  {
   "cell_type": "code",
   "execution_count": 6,
   "id": "1d6b79ce",
   "metadata": {},
   "outputs": [],
   "source": [
    "from requests import get\n",
    "from bs4 import BeautifulSoup\n",
    "import os"
   ]
  },
  {
   "cell_type": "code",
   "execution_count": 7,
   "id": "ad2c3518",
   "metadata": {},
   "outputs": [],
   "source": [
    "# looking at an article from Codeup's blog\n",
    "url = 'https://codeup.com/data-science/math-in-data-science/'\n",
    "headers = {'User-Agent': 'Codeup Data Science'} # some website don't accept the python-request\n",
    "response = get(url, headers=headers)"
   ]
  },
  {
   "cell_type": "code",
   "execution_count": 9,
   "id": "06e7e17d",
   "metadata": {},
   "outputs": [
    {
     "name": "stdout",
     "output_type": "stream",
     "text": [
      "<!DOCTYPE html>\n",
      "<html lang=\"en-US\">\n",
      "<head>\n",
      "\t<meta charset=\"UTF-8\" />\n",
      "<meta http-equiv=\"X-UA-Compatible\" content=\"IE=edge\">\n",
      "\t<link rel=\"pingback\" href=\"https://codeup.edu/xmlrpc.php\" />\n",
      "\n",
      "\t<script type=\"text/javascript\">\n",
      "\t\tdocument.documentElement.className = 'js';\n",
      "\t</script>\n",
      "\t\n",
      "\t<link rel=\"preconnect\" href=\"https://fonts.gstatic.com\" crossorigin /><script id=\"diviarea-loader\">window.DiviPopupData=wi\n"
     ]
    }
   ],
   "source": [
    "# perform a quick check to make sure we are looking at html \n",
    "print(response.text[:400])"
   ]
  },
  {
   "cell_type": "code",
   "execution_count": 16,
   "id": "6d340de2",
   "metadata": {},
   "outputs": [],
   "source": [
    "# look at the website and inspect its HTML tag and identify the content; class and id\n",
    "soup = BeautifulSoup(response.content, 'html.parser')"
   ]
  },
  {
   "cell_type": "markdown",
   "id": "efe8aced",
   "metadata": {},
   "source": [
    "##### beautiful soup methods and properties\n",
    "\n",
    "* soup.title.string gets the page's title (the same text in the browser tab for a page, this is the < title> element\n",
    "  \n",
    "* soup.prettify() is useful to print in case you want to see the HTML\n",
    "    \n",
    "* soup.find_all(\"a\") find all the anchor tags, or whatever argument is specified.\n",
    "    \n",
    "* soup.find(\"h1\") finds the first matching element\n",
    "    \n",
    "* soup.get_text() gets the text from within a matching piece of soup/HTML\n",
    "    \n",
    "* The soup.select() method takes in a CSS selector as a string and returns all matching elements.\n",
    "\n",
    "see also `soup.find_all`\n",
    "\n",
    "beautiful soup uses `class_` as the keyword argument for searching for a class because `class` is a reserved word in python\n",
    "\n",
    "we'll use the class name that we identified from looking in the inspector in chrome"
   ]
  },
  {
   "cell_type": "code",
   "execution_count": 18,
   "id": "ca60d698",
   "metadata": {},
   "outputs": [
    {
     "data": {
      "text/plain": [
       "<div id=\"main-content\">\n",
       "<div class=\"container\">\n",
       "<div class=\"clearfix\" id=\"content-area\">\n",
       "<div id=\"left-area\">\n",
       "<article class=\"et_pb_post post-6579 post type-post status-publish format-standard has-post-thumbnail hentry category-data-science\" id=\"post-6579\">\n",
       "<div class=\"et_post_meta_wrapper\">\n",
       "<h1 class=\"entry-title\">What are the Math and Stats Principles You Need for Data Science?</h1>\n",
       "<p class=\"post-meta\"><span class=\"published\">Oct 21, 2020</span> | <a href=\"https://codeup.edu/category/data-science/\" rel=\"category tag\">Data Science</a></p><img alt=\"Is there math in data science? Read our blog to learn how much math you need!\" class=\"\" height=\"675\" sizes=\"(min-width: 0px) and (max-width: 480px) 480px, (min-width: 481px) and (max-width: 980px) 980px, (min-width: 981px) 1080px, 100vw\" src=\"https://codeup.edu/wp-content/uploads/2020/10/Blog_MathStatsReg_1200x628-1-1080x628.png\" srcset=\"https://codeup.edu/wp-content/uploads/2020/10/Blog_MathStatsReg_1200x628-1-1080x628.png 1080w, https://codeup.edu/wp-content/uploads/2020/10/Blog_MathStatsReg_1200x628-1-980x513.png 980w, https://codeup.edu/wp-content/uploads/2020/10/Blog_MathStatsReg_1200x628-1-480x251.png 480w\" width=\"1080\"/>\n",
       "</div>\n",
       "<div class=\"entry-content\">\n",
       "<p><span style=\"font-weight: 400;\">Coming into our Data Science program, you will need to know some math and stats. However, many of our applicants actually learn in the </span><a href=\"https://codeup.edu/codeups-application-process/\"><span style=\"font-weight: 400;\">application process</span></a><span style=\"font-weight: 400;\"> – you don’t need to be an expert before applying! Data science is a very accessible field to anyone dedicated to learning new skills, and we can work with any applicant to help them learn what they need to know. But what “skills” do we mean, exactly? Just what exactly are the data science math and stats principles you need to know?</span></p>\n",
       "<h2>What are the main math principles you need to know to get into Codeup’s Data Science program?</h2>\n",
       "<h4></h4>\n",
       "<h4></h4>\n",
       "<p><strong>Algebra</strong></p>\n",
       "<p><span style=\"font-weight: 400;\">Do you know PEMDAS and can you solve for x? You will need to be or become comfortable with the following: </span></p>\n",
       "<ul>\n",
       "<li style=\"font-weight: 400;\"><span style=\"font-weight: 400;\">Variables (x, y, n, etc.)</span></li>\n",
       "<li style=\"font-weight: 400;\"><span style=\"font-weight: 400;\">Formulas, functions, and variable manipulations (e.g. x^2 = x + 6, solve for x).</span></li>\n",
       "<li style=\"font-weight: 400;\"><span style=\"font-weight: 400;\">Order of evaluation: </span><b>PEMDAS</b><span style=\"font-weight: 400;\">: parentheses, exponents, then multiplication, division, addition, and subtraction</span></li>\n",
       "<li style=\"font-weight: 400;\"><span style=\"font-weight: 400;\">Commutativity where </span><b>a + b = b + a</b></li>\n",
       "<li style=\"font-weight: 400;\"><span style=\"font-weight: 400;\">Associativity where </span><b>a + (b + c) = (a + b) + c</b></li>\n",
       "<li style=\"font-weight: 400;\"><span style=\"font-weight: 400;\">Adding and subtracting matrices</span></li>\n",
       "<li style=\"font-weight: 400;\"><span style=\"font-weight: 400;\">A conceptual understanding of exponential growth/decay- things can increase at an increasing rate</span></li>\n",
       "</ul>\n",
       "<p><strong>Descriptive Statistics</strong></p>\n",
       "<p><span style=\"font-weight: 400;\">Know what a min, max, mode, median, and average are. Have a conceptual understanding that stats/probability is about trying to quantify uncertainty.</span></p>\n",
       "<p><strong>Data Visualization</strong></p>\n",
       "<p><span style=\"font-weight: 400;\">Know what a scatterplot is and how to read a barplot.</span></p>\n",
       "<p><strong>How to Learn and Expand on These Concepts</strong></p>\n",
       "<p><span style=\"font-weight: 400;\">There are a number of great resources out there to teach you these and similar concepts. Khan Academy is a great starting place for data science math! If you want to know what exactly we assign our applicants, you’ll just have to </span><a href=\"https://codeup.edu/apply-now\"><span style=\"font-weight: 400;\">apply!</span></a></p>\n",
       "<p> </p>\n",
       "<h3><strong>What about once you’re in Codeup?</strong></h3>\n",
       "<h4></h4>\n",
       "<h4></h4>\n",
       "<p><strong>What You Won’t Do</strong></p>\n",
       "<p><span style=\"font-weight: 400;\">Do we do any mathematical proofs for concepts or perform derivations? No. </span></p>\n",
       "<p><span style=\"font-weight: 400;\">Do we do any calculus and probability calculating by hand? No.</span></p>\n",
       "<p><span style=\"font-weight: 400;\">Are we transforming equations, where we cancel out units or terms and do lots of algebraic gymnastics? No</span></p>\n",
       "<p><strong>What You Will Do</strong></p>\n",
       "<p><span style=\"font-weight: 400;\">Will we have Python solve our linear algebra problems for us? Yes</span></p>\n",
       "<p><span style=\"font-weight: 400;\">Will we have Python calculate probabilities, the area under a curve, and the slope of a line for us? Yes</span></p>\n",
       "<p><span style=\"font-weight: 400;\">Will we have Python do </span><b>all</b><span style=\"font-weight: 400;\"> of the calculus for us? Yes</span></p>\n",
       "<p> </p>\n",
       "<p><span style=\"font-weight: 400;\">See, the data science math and stats slice of the pie is certainly doable. If you like problem-solving and are ready to challenge yourself, you’ll love data science! If you are interested in learning about data science, just <a href=\"http://www.codeup.com/apply\">apply</a>! Our Admissions Manager can work with you to get you where you need to be starting from where you are now. Let us help you get there so you can launch a great new career.</span></p>\n",
       "</div>\n",
       "<div class=\"et_post_meta_wrapper\">\n",
       "</div>\n",
       "</article>\n",
       "</div>\n",
       "<div id=\"sidebar\">\n",
       "<div class=\"et_pb_widget widget_block widget_media_image\" id=\"block-2\">\n",
       "<figure class=\"wp-block-image size-full\"><img alt=\"best bootcamp in San Antonio\" class=\"wp-image-16034\" decoding=\"async\" height=\"561\" loading=\"lazy\" sizes=\"(min-width: 0px) and (max-width: 480px) 480px, (min-width: 481px) 701px, 100vw\" src=\"https://codeup.edu/wp-content/uploads/2021/09/best-bootcamp-switchup.png\" srcset=\"https://codeup.edu/wp-content/uploads/2021/09/best-bootcamp-switchup.png 701w, https://codeup.edu/wp-content/uploads/2021/09/best-bootcamp-switchup-480x384.png 480w\" width=\"701\"/></figure>\n",
       "</div><div class=\"et_pb_widget widget_nav_menu\" id=\"nav_menu-3\"><h4 class=\"widgettitle\">Our Programs</h4><div class=\"menu-our-programs-container\"><ul class=\"menu\" id=\"menu-our-programs\"><li class=\"menu-item menu-item-type-post_type menu-item-object-course menu-item-18129\" id=\"menu-item-18129\"><a href=\"https://codeup.edu/program/cloud-administration/\">Cloud Administration</a></li>\n",
       "<li class=\"menu-item menu-item-type-post_type menu-item-object-course menu-item-16516\" id=\"menu-item-16516\"><a href=\"https://codeup.edu/program/full-stack-web-development/\">Full Stack Web Development</a></li>\n",
       "<li class=\"menu-item menu-item-type-post_type menu-item-object-course menu-item-16515\" id=\"menu-item-16515\"><a href=\"https://codeup.edu/program/data-science/\">Data Science</a></li>\n",
       "</ul></div></div><div class=\"et_pb_widget widget_block\" id=\"block-10\">\n",
       "<div class=\"wp-block-columns are-vertically-aligned-top is-layout-flex wp-container-4 wp-block-columns-is-layout-flex\">\n",
       "<div class=\"wp-block-column is-vertically-aligned-top is-layout-flow wp-block-column-is-layout-flow\" style=\"flex-basis:100%\">\n",
       "<div class=\"wp-block-group is-layout-flow wp-block-group-is-layout-flow\">\n",
       "<div class=\"wp-block-group is-layout-flow wp-block-group-is-layout-flow\">\n",
       "<h2 class=\"wp-block-heading\">Latest Blog Articles</h2>\n",
       "<ul class=\"wp-block-latest-posts__list wp-block-latest-posts\"><li><a class=\"wp-block-latest-posts__post-title\" href=\"https://codeup.edu/featured/apida-heritage-month/\">Spotlight on APIDA Voices: Celebrating Heritage and Inspiring Change ft. Arbeena Thapa</a></li>\n",
       "<li><a class=\"wp-block-latest-posts__post-title\" href=\"https://codeup.edu/featured/women-in-tech-panelist-spotlight/\">Women in tech: Panelist Spotlight – Magdalena Rahn</a></li>\n",
       "<li><a class=\"wp-block-latest-posts__post-title\" href=\"https://codeup.edu/featured/women-in-tech-rachel-robbins-mayhill/\">Women in tech: Panelist Spotlight – Rachel Robbins-Mayhill</a></li>\n",
       "<li><a class=\"wp-block-latest-posts__post-title\" href=\"https://codeup.edu/codeup-news/women-in-tech-panelist-spotlight-sarah-mellor/\">Women in Tech: Panelist Spotlight – Sarah Mellor</a></li>\n",
       "<li><a class=\"wp-block-latest-posts__post-title\" href=\"https://codeup.edu/events/women-in-tech-madeleine/\">Women in Tech: Panelist Spotlight – Madeleine Capper</a></li>\n",
       "</ul>\n",
       "<p></p>\n",
       "</div>\n",
       "</div>\n",
       "</div>\n",
       "</div>\n",
       "</div><div class=\"et_pb_widget widget_block widget_text\" id=\"block-4\">\n",
       "<p></p>\n",
       "</div><div class=\"et_pb_widget widget_block\" id=\"block-11\">\n",
       "<div class=\"wp-block-group is-layout-flow wp-block-group-is-layout-flow\">\n",
       "<div class=\"wp-block-columns is-layout-flex wp-container-7 wp-block-columns-is-layout-flex\">\n",
       "<div class=\"wp-block-column is-layout-flow wp-block-column-is-layout-flow\" style=\"flex-basis:100%\">\n",
       "<div class=\"wp-block-group is-layout-flow wp-block-group-is-layout-flow\"></div>\n",
       "</div>\n",
       "</div>\n",
       "<p></p>\n",
       "</div>\n",
       "</div> </div>\n",
       "</div>\n",
       "</div>\n",
       "</div>"
      ]
     },
     "execution_count": 18,
     "metadata": {},
     "output_type": "execute_result"
    }
   ],
   "source": [
    "article = soup.find('div', id='main-content')\n",
    "article"
   ]
  },
  {
   "cell_type": "code",
   "execution_count": 20,
   "id": "d9b743d7",
   "metadata": {},
   "outputs": [],
   "source": [
    "# store article text for future use \n",
    "with open('article.txt', 'w') as f: #this create a file name article.txt in write mode ('w')\n",
    "    f.write(article.text)   #write the text content of the article to file "
   ]
  },
  {
   "cell_type": "markdown",
   "id": "68ee5ac4",
   "metadata": {},
   "source": [
    "##### now we will wrap all the code above into a function in acquire.py"
   ]
  },
  {
   "cell_type": "markdown",
   "id": "8d47f8fa",
   "metadata": {},
   "source": [
    "# Data Preparation\n",
    "\n",
    "lower all text | remove non-ASCII characters | remove special characters | stem or lemmatize the words | Remove stopwords | store the clean text for future use "
   ]
  },
  {
   "cell_type": "code",
   "execution_count": 24,
   "id": "a873a70f",
   "metadata": {},
   "outputs": [
    {
     "name": "stderr",
     "output_type": "stream",
     "text": [
      "[nltk_data] Downloading package stopwords to\n",
      "[nltk_data]     /Users/lordvoldemort/nltk_data...\n",
      "[nltk_data]   Package stopwords is already up-to-date!\n"
     ]
    },
    {
     "data": {
      "text/plain": [
       "True"
      ]
     },
     "execution_count": 24,
     "metadata": {},
     "output_type": "execute_result"
    }
   ],
   "source": [
    "import nltk; nltk.download('stopwords')"
   ]
  },
  {
   "cell_type": "code",
   "execution_count": 26,
   "id": "7f499f2a",
   "metadata": {},
   "outputs": [],
   "source": [
    "import unicodedata\n",
    "import re\n",
    "import json\n",
    "import nltk\n",
    "\n",
    "from nltk.tokenize.toktok import ToktokTokenizer\n",
    "from nltk.corpus import stopwords\n",
    "\n",
    "import pandas as pd\n",
    "\n",
    "#import acquire if acquire exist"
   ]
  },
  {
   "cell_type": "code",
   "execution_count": 27,
   "id": "33b7c3ba",
   "metadata": {},
   "outputs": [
    {
     "data": {
      "text/plain": [
       "\"Coming into our Data Science program, you will need to know some math and stats. However, many of our applicants actually learn in the application process – you don’t need to be an expert before applying! Data science is a very accessible field to anyone dedicated to learning new skills, and we can work with any applicant to help them learn what they need to know. But what “skills” do we mean, exactly? Just what exactly are the data science math and stats principles you need to know?', 'What are the main math principles you need to know to get into Codeup’s Data Science program?'\""
      ]
     },
     "execution_count": 27,
     "metadata": {},
     "output_type": "execute_result"
    }
   ],
   "source": [
    "article = \"Coming into our Data Science program, you will need to know some math and \\\n",
    "stats. However, many of our applicants actually learn in the application process – you \\\n",
    "don’t need to be an expert before applying! Data science is a very accessible field to \\\n",
    "anyone dedicated to learning new skills, and we can work with any applicant to help them \\\n",
    "learn what they need to know. But what “skills” do we mean, exactly? Just what exactly \\\n",
    "are the data science math and stats principles you need to know?', 'What are the main \\\n",
    "math principles you need to know to get into Codeup’s Data Science program?'\"\n",
    "article"
   ]
  },
  {
   "cell_type": "code",
   "execution_count": 28,
   "id": "4db80a97",
   "metadata": {},
   "outputs": [
    {
     "data": {
      "text/plain": [
       "\"coming into our data science program, you will need to know some math and stats. however, many of our applicants actually learn in the application process – you don’t need to be an expert before applying! data science is a very accessible field to anyone dedicated to learning new skills, and we can work with any applicant to help them learn what they need to know. but what “skills” do we mean, exactly? just what exactly are the data science math and stats principles you need to know?', 'what are the main math principles you need to know to get into codeup’s data science program?'\""
      ]
     },
     "execution_count": 28,
     "metadata": {},
     "output_type": "execute_result"
    }
   ],
   "source": [
    "# convert text to all lower case for normalcy\n",
    "article.lower()"
   ]
  },
  {
   "cell_type": "code",
   "execution_count": 32,
   "id": "887f58e4",
   "metadata": {},
   "outputs": [
    {
     "data": {
      "text/plain": [
       "'Coming into our Data Science program, you will need to know some math and stats. However, many of ou'"
      ]
     },
     "execution_count": 32,
     "metadata": {},
     "output_type": "execute_result"
    }
   ],
   "source": [
    "#remove accented character\n",
    "# 1. unicodedata.normalize removes any inconsistencies in unicode character encoding.\n",
    "# 2. .encode to convert the resulting string to the ASCII character set. We'll ignore any errors in conversion, meaning we'll drop anything that isn't an ASCII character.\n",
    "# 3. .decode to turn the resulting bytes object back into a string.\n",
    "\n",
    "article = unicodedata.normalize('NFKD', article)\\\n",
    "    .encode('ascii', 'ignore')\\\n",
    "    .decode('utf-8', 'ignore')\n",
    "article[0:100]"
   ]
  },
  {
   "cell_type": "code",
   "execution_count": 35,
   "id": "59d8e8fa",
   "metadata": {},
   "outputs": [],
   "source": [
    "# removing special characters that is not a-z, a number, a single quote, or whitespace\n",
    "article = re.sub(r\"[^a-z0-9'\\s]\",'', article)"
   ]
  },
  {
   "cell_type": "code",
   "execution_count": 37,
   "id": "fcd9788a",
   "metadata": {},
   "outputs": [
    {
     "data": {
      "text/plain": [
       "'oming into our ata cience program you will need to know some math and stats owever many of our appli'"
      ]
     },
     "execution_count": 37,
     "metadata": {},
     "output_type": "execute_result"
    }
   ],
   "source": [
    "# Tokenization by breaking the words or punctuation into discrete units \n",
    "tokenizer = nltk.tokenize.ToktokTokenizer()\n",
    "tokenizer.tokenize(article,return_str=True)[0:100]"
   ]
  },
  {
   "cell_type": "code",
   "execution_count": 44,
   "id": "2c9419a6",
   "metadata": {},
   "outputs": [
    {
     "data": {
      "text/plain": [
       "'oming into our ata cience program you will need to know some math and stats owever many of our appli'"
      ]
     },
     "execution_count": 44,
     "metadata": {},
     "output_type": "execute_result"
    }
   ],
   "source": [
    "# stemming ; may not produce the right english \n",
    "ps = nltk.porter.PorterStemmer()\n",
    "ps.stem(article)[:100]"
   ]
  },
  {
   "cell_type": "code",
   "execution_count": 49,
   "id": "6dc3f4e4",
   "metadata": {
    "scrolled": true
   },
   "outputs": [
    {
     "data": {
      "text/plain": [
       "'ome into our ata cienc program you will need to know some math and stat owev mani of our applic actu'"
      ]
     },
     "execution_count": 49,
     "metadata": {},
     "output_type": "execute_result"
    }
   ],
   "source": [
    "# use the code above to transform all in the article\n",
    "stems = [ps.stem(word) for word in article.split()]\n",
    "article_stemmed=' '.join(stems)\n",
    "article_stemmed[:100]"
   ]
  },
  {
   "cell_type": "code",
   "execution_count": 51,
   "id": "0a1e5039",
   "metadata": {},
   "outputs": [
    {
     "data": {
      "text/plain": [
       "to          9\n",
       "need        5\n",
       "you         4\n",
       "learn       3\n",
       "and         3\n",
       "           ..\n",
       "veri        1\n",
       "access      1\n",
       "field       1\n",
       "anyon       1\n",
       "program'    1\n",
       "Length: 63, dtype: int64"
      ]
     },
     "execution_count": 51,
     "metadata": {},
     "output_type": "execute_result"
    }
   ],
   "source": [
    "# count how many was stemmed\n",
    "pd.Series(stems).value_counts().head(100)"
   ]
  },
  {
   "cell_type": "code",
   "execution_count": 53,
   "id": "ab642c65",
   "metadata": {},
   "outputs": [
    {
     "name": "stdout",
     "output_type": "stream",
     "text": [
      "stem: he -- lemma: He\n",
      "stem: wa -- lemma: wa\n",
      "stem: run -- lemma: running\n",
      "stem: and -- lemma: and\n",
      "stem: eat -- lemma: eating\n",
      "stem: at -- lemma: at\n",
      "stem: same -- lemma: same\n",
      "stem: time. -- lemma: time.\n",
      "stem: he -- lemma: He\n",
      "stem: ha -- lemma: ha\n",
      "stem: bad -- lemma: bad\n",
      "stem: habit -- lemma: habit\n",
      "stem: of -- lemma: of\n",
      "stem: swim -- lemma: swimming\n",
      "stem: after -- lemma: after\n",
      "stem: play -- lemma: playing\n",
      "stem: long -- lemma: long\n",
      "stem: hour -- lemma: hour\n",
      "stem: in -- lemma: in\n",
      "stem: the -- lemma: the\n",
      "stem: sun. -- lemma: Sun.\n"
     ]
    }
   ],
   "source": [
    "# lemmatization is slower but produces english words\n",
    "wnl = nltk.stem.WordNetLemmatizer()\n",
    "\n",
    "sentence = \"He was running and eating at same time. He has bad habit of swimming after playing long hours in the Sun.\"\n",
    "\n",
    "for word in sentence.split():\n",
    "    print('stem:', ps.stem(word), '-- lemma:', wnl.lemmatize(word))\n"
   ]
  },
  {
   "cell_type": "code",
   "execution_count": 59,
   "id": "abd01059",
   "metadata": {},
   "outputs": [
    {
     "data": {
      "text/plain": [
       "'oming into our ata cience program you will need to know some math and stats owever many of our appli'"
      ]
     },
     "execution_count": 59,
     "metadata": {},
     "output_type": "execute_result"
    }
   ],
   "source": [
    "# apply lemmatization to the entire documents \n",
    "lemmas = [wnl.lemmatize(word) for word in article.split()]\n",
    "article_lemmatized = ' '.join(lemmas)\n",
    "\n",
    "article_lemmatized[0:100]"
   ]
  },
  {
   "cell_type": "code",
   "execution_count": 60,
   "id": "22589844",
   "metadata": {},
   "outputs": [
    {
     "data": {
      "text/plain": [
       "to         9\n",
       "need       5\n",
       "you        4\n",
       "ata        3\n",
       "the        3\n",
       "and        3\n",
       "what       3\n",
       "math       3\n",
       "know       3\n",
       "exactly    2\n",
       "dtype: int64"
      ]
     },
     "execution_count": 60,
     "metadata": {},
     "output_type": "execute_result"
    }
   ],
   "source": [
    "pd.Series(lemmas).value_counts()[:10]"
   ]
  },
  {
   "cell_type": "code",
   "execution_count": 61,
   "id": "ffbf2915",
   "metadata": {},
   "outputs": [],
   "source": [
    "# removing stopwords \n"
   ]
  },
  {
   "cell_type": "markdown",
   "id": "431efa54",
   "metadata": {},
   "source": [
    "# Data Exploration"
   ]
  },
  {
   "cell_type": "markdown",
   "id": "ba46906b",
   "metadata": {},
   "source": [
    "# Modeling"
   ]
  },
  {
   "cell_type": "code",
   "execution_count": null,
   "id": "3cdd1317",
   "metadata": {},
   "outputs": [],
   "source": []
  }
 ],
 "metadata": {
  "kernelspec": {
   "display_name": "Python 3 (ipykernel)",
   "language": "python",
   "name": "python3"
  },
  "language_info": {
   "codemirror_mode": {
    "name": "ipython",
    "version": 3
   },
   "file_extension": ".py",
   "mimetype": "text/x-python",
   "name": "python",
   "nbconvert_exporter": "python",
   "pygments_lexer": "ipython3",
   "version": "3.10.9"
  }
 },
 "nbformat": 4,
 "nbformat_minor": 5
}
