{
 "cells": [
  {
   "cell_type": "markdown",
   "id": "ee063244",
   "metadata": {},
   "source": [
    "# Random practice 2 "
   ]
  },
  {
   "cell_type": "markdown",
   "id": "4b4e996f",
   "metadata": {},
   "source": [
    "https://www.youtube.com/watch?v=cs049uQWbpg&list=PLmPJQXJiMoUUSqSV7jcqGiiypGmQ_ogtb&index=1"
   ]
  },
  {
   "cell_type": "markdown",
   "id": "17f22a5d",
   "metadata": {},
   "source": [
    "The video will be a guidance not of the same website, nor same goal\n",
    "\n",
    "Goals: Find all the positive in Genesis of the Bible\n",
    "\n",
    "NLP are divided into natural language understanding (speech and text import from scraping), and natural language "
   ]
  },
  {
   "cell_type": "markdown",
   "id": "08729778",
   "metadata": {},
   "source": [
    "# Imports"
   ]
  },
  {
   "cell_type": "code",
   "execution_count": 16,
   "id": "ba79df0e",
   "metadata": {},
   "outputs": [],
   "source": [
    "# targeted web content from web page\n",
    "import requests\n",
    "import urllib.request\n",
    "import time\n",
    "from bs4 import BeautifulSoup\n",
    "\n",
    "import unicodedata\n",
    "import re\n",
    "import json\n",
    "\n",
    "import nltk\n",
    "from nltk.tokenize.toktok import ToktokTokenizer\n",
    "from nltk.corpus import stopwords\n",
    "from nltk.stem import PorterStemmer\n",
    "\n",
    "import pandas as pd\n"
   ]
  },
  {
   "cell_type": "markdown",
   "id": "80eeb0cd",
   "metadata": {},
   "source": [
    "# Web Scraping & Parsing"
   ]
  },
  {
   "cell_type": "code",
   "execution_count": 2,
   "id": "589f1bde",
   "metadata": {
    "scrolled": true
   },
   "outputs": [
    {
     "name": "stdout",
     "output_type": "stream",
     "text": [
      "\n",
      "1 In the beginning God created the heaven and the earth.2 And the earth was without form, and void; and darkness was upon the face of the deep. And the Spirit of God moved upon the face of the waters.3 And God said, Let there be light: and there was light.4 And God saw the light, that it was good: \n"
     ]
    }
   ],
   "source": [
    "\n",
    "\n",
    "# Define the URL\n",
    "url = 'https://www.kingjamesbibleonline.org/Genesis-Chapter-1/'\n",
    "\n",
    "# Send an HTTP GET request to the URL\n",
    "response = requests.get(url)\n",
    "\n",
    "# Check if the request was successful (status code 200)\n",
    "if response.status_code == 200:\n",
    "    # Parse the HTML content of the page using BeautifulSoup\n",
    "    soup = BeautifulSoup(response.text, 'html.parser')\n",
    "    \n",
    "    # Find the specific div element by its id\n",
    "    content = soup.find('div', {\"id\": \"div\"})\n",
    "    \n",
    "    if content:\n",
    "        # Extract the text content from the div\n",
    "        text_data = content.text\n",
    "\n",
    "        # Display the first 300 characters of the text data\n",
    "        print(text_data[:300])\n",
    "\n",
    "        # If you want to save the entire text to a variable, you can use:\n",
    "        # entire_text = content.text\n",
    "    else:\n",
    "        print(\"Div with id 'div' not found on the page.\")\n",
    "else:\n",
    "    print(\"Failed to retrieve the webpage. Status code:\", response.status_code)\n",
    "# this will produce a text data"
   ]
  },
  {
   "cell_type": "code",
   "execution_count": 3,
   "id": "5a129a43",
   "metadata": {
    "scrolled": true
   },
   "outputs": [
    {
     "name": "stdout",
     "output_type": "stream",
     "text": [
      "\n",
      "1 In the beginning God created the heaven and the earth.2 And the earth was without form, and void; and darkness was upon the face of the deep. And the Spirit of God moved upon the face of the waters.3 And God said, Let there be light: and there was light.4 And God saw the light, that it was good: and God divided the light from the darkness.5 And God called the light Day, and the darkness he called Night. And the evening and the morning were the first day.6 And God said, Let there be a firmament in the midst of the waters, and let it divide the waters from the waters.7 And God made the firmament, and divided the waters which were under the firmament from the waters which were above the firmament: and it was so.8 And God called the firmament Heaven. And the evening and the morning were the second day.9 And God said, Let the waters under the heaven be gathered together unto one place, and let the dry land appear: and it was so.10 And God called the dry land Earth; and the gathering together of the waters called he Seas: and God saw that it was good.11 And God said, Let the earth bring forth grass, the herb yielding seed, and the fruit tree yielding fruit after his kind, whose seed is in itself, upon the earth: and it was so.12 And the earth brought forth grass, and herb yielding seed after his kind, and the tree yielding fruit, whose seed was in itself, after his kind: and God saw that it was good.13 And the evening and the morning were the third day.14 And God said, Let there be lights in the firmament of the heaven to divide the day from the night; and let them be for signs, and for seasons, and for days, and years:15 And let them be for lights in the firmament of the heaven to give light upon the earth: and it was so.16 And God made two great lights; the greater light to rule the day, and the lesser light to rule the night: he made the stars also.17 And God set them in the firmament of the heaven to give light upon the earth,18 And to rule over the day and over the night, and to divide the light from the darkness: and God saw that it was good.19 And the evening and the morning were the fourth day.20 And God said, Let the waters bring forth abundantly the moving creature that hath life, and fowl that may fly above the earth in the open firmament of heaven.21 And God created great whales, and every living creature that moveth, which the waters brought forth abundantly, after their kind, and every winged fowl after his kind: and God saw that it was good.22 And God blessed them, saying, Be fruitful, and multiply, and fill the waters in the seas, and let fowl multiply in the earth.23 And the evening and the morning were the fifth day.24 And God said, Let the earth bring forth the living creature after his kind, cattle, and creeping thing, and beast of the earth after his kind: and it was so.25 And God made the beast of the earth after his kind, and cattle after their kind, and every thing that creepeth upon the earth after his kind: and God saw that it was good.26 And God said, Let us make man in our image, after our likeness: and let them have dominion over the fish of the sea, and over the fowl of the air, and over the cattle, and over all the earth, and over every creeping thing that creepeth upon the earth.27 So God created man in his own image, in the image of God created he him; male and female created he them.28 And God blessed them, and God said unto them, Be fruitful, and multiply, and replenish the earth, and subdue it: and have dominion over the fish of the sea, and over the fowl of the air, and over every living thing that moveth upon the earth.29 And God said, Behold, I have given you every herb bearing seed, which is upon the face of all the earth, and every tree, in the which is the fruit of a tree yielding seed; to you it shall be for meat.30 And to every beast of the earth, and to every fowl of the air, and to every thing that creepeth upon the earth, wherein there is life, I have given every green herb for meat: and it was so.31 And God saw every thing that he had made, and, behold, it was very good. And the evening and the morning were the sixth day. \n"
     ]
    }
   ],
   "source": [
    "article = text_data\n",
    "print(article)"
   ]
  },
  {
   "cell_type": "markdown",
   "id": "783cf73d",
   "metadata": {},
   "source": [
    "# NLP Data Cleaning"
   ]
  },
  {
   "cell_type": "code",
   "execution_count": 4,
   "id": "c4233846",
   "metadata": {
    "scrolled": true
   },
   "outputs": [],
   "source": [
    "# convert all to lower for Normalcy\n",
    "article = article.lower()"
   ]
  },
  {
   "cell_type": "code",
   "execution_count": 5,
   "id": "186a2185",
   "metadata": {},
   "outputs": [
    {
     "name": "stdout",
     "output_type": "stream",
     "text": [
      "\n",
      "1 in the beginning god created the heaven and the earth.2 and the earth was without form, and void; and darkness was upon the face of the deep. and the spirit of god moved upon the face of the waters.3 and god said, let there be light: and there was light.4 and god saw the light, that it was good: \n"
     ]
    }
   ],
   "source": [
    "# Removing accented characters by encoding and decoding ASCii\n",
    "article = unicodedata.normalize('NFKD', article)\\\n",
    "    .encode('ascii', 'ignore')\\\n",
    "    .decode('utf-8', 'ignore')\n",
    "\n",
    "print(article[0:300])"
   ]
  },
  {
   "cell_type": "code",
   "execution_count": 6,
   "id": "42f28db2",
   "metadata": {
    "scrolled": true
   },
   "outputs": [
    {
     "name": "stdout",
     "output_type": "stream",
     "text": [
      "\n",
      "1 in the beginning god created the heaven and the earth 2 and the earth was without form  and void  and darkness was upon the face of the deep  and the spirit of god moved upon the face of the waters 3 and god said  let there be light  and there was light 4 and god saw the light  that it was good  and god divided the light from the darkness 5 and god called the light day  and the darkness he called night  and the evening and the morning were the first day 6 and god said  let there be a firmament in the midst of the waters  and let it divide the waters from the waters 7 and god made the firmament  and divided the waters which were under the firmament from the waters which were above the firmament  and it was so 8 and god called the firmament heaven  and the evening and the morning were the second day 9 and god said  let the waters under the heaven be gathered together unto one place  and let the dry land appear  and it was so 10 and god called the dry land earth  and the gathering together of the waters called he seas  and god saw that it was good 11 and god said  let the earth bring forth grass  the herb yielding seed  and the fruit tree yielding fruit after his kind  whose seed is in itself  upon the earth  and it was so 12 and the earth brought forth grass  and herb yielding seed after his kind  and the tree yielding fruit  whose seed was in itself  after his kind  and god saw that it was good 13 and the evening and the morning were the third day 14 and god said  let there be lights in the firmament of the heaven to divide the day from the night  and let them be for signs  and for seasons  and for days  and years 15 and let them be for lights in the firmament of the heaven to give light upon the earth  and it was so 16 and god made two great lights  the greater light to rule the day  and the lesser light to rule the night  he made the stars also 17 and god set them in the firmament of the heaven to give light upon the earth 18 and to rule over the day and over the night  and to divide the light from the darkness  and god saw that it was good 19 and the evening and the morning were the fourth day 20 and god said  let the waters bring forth abundantly the moving creature that hath life  and fowl that may fly above the earth in the open firmament of heaven 21 and god created great whales  and every living creature that moveth  which the waters brought forth abundantly  after their kind  and every winged fowl after his kind  and god saw that it was good 22 and god blessed them  saying  be fruitful  and multiply  and fill the waters in the seas  and let fowl multiply in the earth 23 and the evening and the morning were the fifth day 24 and god said  let the earth bring forth the living creature after his kind  cattle  and creeping thing  and beast of the earth after his kind  and it was so 25 and god made the beast of the earth after his kind  and cattle after their kind  and every thing that creepeth upon the earth after his kind  and god saw that it was good 26 and god said  let us make man in our image  after our likeness  and let them have dominion over the fish of the sea  and over the fowl of the air  and over the cattle  and over all the earth  and over every creeping thing that creepeth upon the earth 27 so god created man in his own image  in the image of god created he him  male and female created he them 28 and god blessed them  and god said unto them  be fruitful  and multiply  and replenish the earth  and subdue it  and have dominion over the fish of the sea  and over the fowl of the air  and over every living thing that moveth upon the earth 29 and god said  behold  i have given you every herb bearing seed  which is upon the face of all the earth  and every tree  in the which is the fruit of a tree yielding seed  to you it shall be for meat 30 and to every beast of the earth  and to every fowl of the air  and to every thing that creepeth upon the earth  wherein there is life  i have given every green herb for meat  and it was so 31 and god saw every thing that he had made  and  behold  it was very good  and the evening and the morning were the sixth day  \n"
     ]
    }
   ],
   "source": [
    "# removing special characters that is not a-z 0-9 and any single quote or white space in article\n",
    "article = re.sub(r\"[^a-z0-9'\\s]\",' ',article)\n",
    "print(article)\n"
   ]
  },
  {
   "cell_type": "code",
   "execution_count": 13,
   "id": "d8a2eb29",
   "metadata": {},
   "outputs": [
    {
     "data": {
      "text/plain": [
       "'1 in the beginning god created the heaven and the earth 2 and the earth was without form and void and darkness was upon the face of the deep and the spirit of god moved upon the face of the waters 3 a'"
      ]
     },
     "execution_count": 13,
     "metadata": {},
     "output_type": "execute_result"
    }
   ],
   "source": [
    "# Tokenizing the strings to break words and any punctuation left over into discrete units with nltk\n",
    "tokenizer = nltk.tokenize.ToktokTokenizer()\n",
    "tokenizer.tokenize(article, return_str=True)[0:200]"
   ]
  },
  {
   "cell_type": "code",
   "execution_count": 12,
   "id": "85ce63ec",
   "metadata": {},
   "outputs": [
    {
     "data": {
      "text/plain": [
       "'1 in the beginning god created the heaven and the earth 2 and the earth was without form and void and darkness was upon the face of the deep and the spirit of god moved upon the face of the waters 3 a'"
      ]
     },
     "execution_count": 12,
     "metadata": {},
     "output_type": "execute_result"
    }
   ],
   "source": [
    "article = tokenizer.tokenize(article, return_str=True)[0:200]\n",
    "article"
   ]
  },
  {
   "cell_type": "markdown",
   "id": "c47baa95",
   "metadata": {},
   "source": [
    "# Text Data Cleaning with Stem vs Lemm"
   ]
  },
  {
   "cell_type": "code",
   "execution_count": 28,
   "id": "237c16b4",
   "metadata": {},
   "outputs": [
    {
     "name": "stdout",
     "output_type": "stream",
     "text": [
      "stem: 1 -- lemma: 1\n",
      "stem: in -- lemma: in\n",
      "stem: the -- lemma: the\n",
      "stem: begin -- lemma: beginning\n",
      "stem: god -- lemma: god\n",
      "stem: creat -- lemma: created\n",
      "stem: the -- lemma: the\n",
      "stem: heaven -- lemma: heaven\n",
      "stem: and -- lemma: and\n",
      "stem: the -- lemma: the\n",
      "stem: earth -- lemma: earth\n",
      "stem: 2 -- lemma: 2\n",
      "stem: and -- lemma: and\n",
      "stem: the -- lemma: the\n",
      "stem: earth -- lemma: earth\n",
      "stem: wa -- lemma: wa\n",
      "stem: without -- lemma: without\n",
      "stem: form -- lemma: form\n",
      "stem: and -- lemma: and\n",
      "stem: void -- lemma: void\n",
      "stem: and -- lemma: and\n",
      "stem: dark -- lemma: darkness\n",
      "stem: wa -- lemma: wa\n",
      "stem: upon -- lemma: upon\n",
      "stem: the -- lemma: the\n",
      "stem: face -- lemma: face\n",
      "stem: of -- lemma: of\n",
      "stem: the -- lemma: the\n",
      "stem: deep -- lemma: deep\n",
      "stem: and -- lemma: and\n",
      "stem: the -- lemma: the\n",
      "stem: spirit -- lemma: spirit\n",
      "stem: of -- lemma: of\n",
      "stem: god -- lemma: god\n",
      "stem: move -- lemma: moved\n",
      "stem: upon -- lemma: upon\n",
      "stem: the -- lemma: the\n",
      "stem: face -- lemma: face\n",
      "stem: of -- lemma: of\n",
      "stem: the -- lemma: the\n",
      "stem: water -- lemma: water\n",
      "stem: 3 -- lemma: 3\n",
      "stem: a -- lemma: a\n"
     ]
    }
   ],
   "source": [
    "wnl = nltk.stem.WordNetLemmatizer()\n",
    "ps = nltk.stem.PorterStemmer()\n",
    "for word in article.split():\n",
    "    print('stem:', ps.stem(word), '-- lemma:', wnl.lemmatize(word))"
   ]
  },
  {
   "cell_type": "code",
   "execution_count": 30,
   "id": "d728f68e",
   "metadata": {},
   "outputs": [
    {
     "data": {
      "text/plain": [
       "'stem: 1 -- lemma: 1 stem: in -- lemma: in stem: the -- lemma: the stem: begin -- lemma: beginning stem: god -- lemma: god stem: creat -- lemma: created stem: the -- lemma: the stem: heaven -- lemma: heaven stem: and -- lemma: and stem: the -- lemma: the stem: earth -- lemma: earth stem: 2 -- lemma: 2 stem: and -- lemma: and stem: the -- lemma: the stem: earth -- lemma: earth stem: wa -- lemma: wa stem: without -- lemma: without stem: form -- lemma: form stem: and -- lemma: and stem: void -- lemma: void stem: and -- lemma: and stem: dark -- lemma: darkness stem: wa -- lemma: wa stem: upon -- lemma: upon stem: the -- lemma: the stem: face -- lemma: face stem: of -- lemma: of stem: the -- lemma: the stem: deep -- lemma: deep stem: and -- lemma: and stem: the -- lemma: the stem: spirit -- lemma: spirit stem: of -- lemma: of stem: god -- lemma: god stem: move -- lemma: moved stem: upon -- lemma: upon stem: the -- lemma: the stem: face -- lemma: face stem: of -- lemma: of stem: the -- lemma: the stem: water -- lemma: water stem: 3 -- lemma: 3 stem: a -- lemma: a'"
      ]
     },
     "execution_count": 30,
     "metadata": {},
     "output_type": "execute_result"
    }
   ],
   "source": [
    "# Split the text into words and apply stemming and lemmatization\n",
    "stemmed_and_lemmatized_text = []\n",
    "for word in article.split():\n",
    "    stemmed_word = ps.stem(word)  # Apply stemming\n",
    "    lemmatized_word = wnl.lemmatize(word)  # Apply lemmatization\n",
    "    stemmed_and_lemmatized_text.append(f'stem: {stemmed_word} -- lemma: {lemmatized_word}')\n",
    "\n",
    "# Combine the stemmed and lemmatized words into a single string\n",
    "# in this case, both are necessary to balance out speed and accuracy\n",
    "resulting_text = ' '.join(stemmed_and_lemmatized_text)\n",
    "\n",
    "# Print or use the resulting text\n",
    "resulting_text"
   ]
  },
  {
   "cell_type": "code",
   "execution_count": 38,
   "id": "817b47ef",
   "metadata": {},
   "outputs": [
    {
     "data": {
      "text/plain": [
       "['i', 'me', 'my', 'myself', 'we']"
      ]
     },
     "execution_count": 38,
     "metadata": {},
     "output_type": "execute_result"
    }
   ],
   "source": [
    "# removing stop words by segment text into linguistic units such as words or numbers\n",
    "stopword_list = stopwords.words('english')\n",
    "# use set casting to remove any excluded stopwords\n",
    "exclude_words = []\n",
    "stopword_set = set(stopword_list) - set(exclude_words)\n",
    "# add in extra words to stopwords set using a union\n",
    "extra_words=[]\n",
    "stopword_set = stopword_set.union(set(extra_words))\n",
    "# split the document by spaces\n",
    "words = resulting_text.split()\n",
    "# every word in our document that is not a stopword\n",
    "filtered_words = [word for word in words if word not in stopword_set]\n",
    "# join it back together with spaces\n",
    "string_without_stopwords = ' '.join(filtered_words)\n",
    "stopword_list[:5]"
   ]
  },
  {
   "cell_type": "code",
   "execution_count": null,
   "id": "6ab96f83",
   "metadata": {},
   "outputs": [],
   "source": []
  },
  {
   "cell_type": "markdown",
   "id": "5a71e493",
   "metadata": {},
   "source": [
    "# Feature Extraction "
   ]
  },
  {
   "cell_type": "code",
   "execution_count": null,
   "id": "1017cab7",
   "metadata": {},
   "outputs": [],
   "source": []
  },
  {
   "cell_type": "markdown",
   "id": "be12e49c",
   "metadata": {},
   "source": [
    "# Countvectorizer and TF IDF"
   ]
  },
  {
   "cell_type": "code",
   "execution_count": null,
   "id": "7ceca7c4",
   "metadata": {},
   "outputs": [],
   "source": []
  },
  {
   "cell_type": "markdown",
   "id": "c1a49c5b",
   "metadata": {},
   "source": [
    "# Hotel Reviews SentimentAnalysis"
   ]
  },
  {
   "cell_type": "code",
   "execution_count": null,
   "id": "0483e128",
   "metadata": {},
   "outputs": [],
   "source": []
  },
  {
   "cell_type": "markdown",
   "id": "b8483384",
   "metadata": {},
   "source": [
    "# Understanding Word Embedding"
   ]
  },
  {
   "cell_type": "code",
   "execution_count": null,
   "id": "e97cc4c5",
   "metadata": {},
   "outputs": [],
   "source": []
  },
  {
   "cell_type": "code",
   "execution_count": null,
   "id": "5ace42d2",
   "metadata": {},
   "outputs": [],
   "source": []
  }
 ],
 "metadata": {
  "kernelspec": {
   "display_name": "Python 3 (ipykernel)",
   "language": "python",
   "name": "python3"
  },
  "language_info": {
   "codemirror_mode": {
    "name": "ipython",
    "version": 3
   },
   "file_extension": ".py",
   "mimetype": "text/x-python",
   "name": "python",
   "nbconvert_exporter": "python",
   "pygments_lexer": "ipython3",
   "version": "3.10.9"
  }
 },
 "nbformat": 4,
 "nbformat_minor": 5
}
