{
 "cells": [
  {
   "cell_type": "code",
   "execution_count": 124,
   "id": "9137a29e",
   "metadata": {},
   "outputs": [],
   "source": [
    "import requests\n",
    "from bs4 import BeautifulSoup\n",
    "import acquire\n",
    "from requests import get\n",
    "import os "
   ]
  },
  {
   "cell_type": "code",
   "execution_count": 127,
   "id": "fbb84d9f",
   "metadata": {},
   "outputs": [],
   "source": [
    "url = 'https://codeup.edu/blog/'\n",
    "headers = {'User-Agent': 'Codeup Data Science'} \n",
    "# Some websites don't accept the pyhon-requests default user-agent\n",
    "response = get(url, headers=headers)\n"
   ]
  },
  {
   "cell_type": "code",
   "execution_count": 128,
   "id": "9d7d1d34",
   "metadata": {},
   "outputs": [
    {
     "data": {
      "text/plain": [
       "<Response [200]>"
      ]
     },
     "execution_count": 128,
     "metadata": {},
     "output_type": "execute_result"
    }
   ],
   "source": [
    "response"
   ]
  },
  {
   "cell_type": "markdown",
   "id": "44cb3394",
   "metadata": {},
   "source": [
    "Replace https://www.codeup.com/blog with the actual URL of Codeup's blog.\n",
    "\n",
    "Replace 'article_selector', 'title_selector', and 'content_selector' with the CSS selectors that match the structure of the blog posts on Codeup's website.\n",
    "\n",
    "The get_blog_articles function will return a list of dictionaries, where each dictionary contains the title and content of a blog post."
   ]
  },
  {
   "cell_type": "code",
   "execution_count": 133,
   "id": "fcf30074",
   "metadata": {},
   "outputs": [],
   "source": [
    "\n",
    "def get_blog_articles():\n",
    "    # Check if the request was successful (status code 200).\n",
    "    if response.status_code == 200:\n",
    "        soup = BeautifulSoup(response.text, 'html.parser')\n",
    "\n",
    "        articles = []\n",
    "        for article in soup.select('Codeup Blog'):\n",
    "            title = article.select_one('title_selector').text  # Replace 'title_selector'.\n",
    "            content = article.select_one('content_selector').text  # Replace 'content_selector'.\n",
    "\n",
    "            article_info = {\n",
    "                'title': title,\n",
    "                'content': content\n",
    "            }\n",
    "            articles.append(article_info)\n",
    "\n",
    "        return articles\n",
    "    else:\n",
    "        print(\"Failed to retrieve the website.\")\n",
    "        return []\n",
    "\n"
   ]
  },
  {
   "cell_type": "code",
   "execution_count": 136,
   "id": "61381db3",
   "metadata": {},
   "outputs": [
    {
     "data": {
      "text/plain": [
       "<function __main__.get_blog_articles()>"
      ]
     },
     "execution_count": 136,
     "metadata": {},
     "output_type": "execute_result"
    }
   ],
   "source": [
    "get_blog_articles"
   ]
  },
  {
   "cell_type": "code",
   "execution_count": null,
   "id": "0cac86f6",
   "metadata": {},
   "outputs": [],
   "source": []
  }
 ],
 "metadata": {
  "kernelspec": {
   "display_name": "Python 3 (ipykernel)",
   "language": "python",
   "name": "python3"
  },
  "language_info": {
   "codemirror_mode": {
    "name": "ipython",
    "version": 3
   },
   "file_extension": ".py",
   "mimetype": "text/x-python",
   "name": "python",
   "nbconvert_exporter": "python",
   "pygments_lexer": "ipython3",
   "version": "3.10.9"
  }
 },
 "nbformat": 4,
 "nbformat_minor": 5
}
